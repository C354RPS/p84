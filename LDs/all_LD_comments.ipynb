{
 "cells": [
  {
   "cell_type": "markdown",
   "metadata": {},
   "source": [
    "## Consolida todas as LDs em um único Dataframe:"
   ]
  },
  {
   "cell_type": "code",
   "execution_count": 30,
   "metadata": {},
   "outputs": [],
   "source": [
    "import pandas as pd\n",
    "import os\n",
    "from pathlib import Path\n",
    "import warnings\n",
    "\n",
    "warnings.filterwarnings(\"ignore\", category=FutureWarning)"
   ]
  },
  {
   "cell_type": "code",
   "execution_count": 31,
   "metadata": {},
   "outputs": [
    {
     "name": "stdout",
     "output_type": "stream",
     "text": [
      "Lendo arquivo: C:\\Users\\elxy\\Documents\\Codigos\\Python\\P84_85\\LDs\\TodasLDs\\I-LD-3010.2S-1200-210-YA7-001_RISER HARD PIPE.xlsx\n",
      "Lendo arquivo: C:\\Users\\elxy\\Documents\\Codigos\\Python\\P84_85\\LDs\\TodasLDs\\I-LD-3010.2S-1200-911-EP8-096_0_FLOW METERING SYSTEM - rev1.xlsx\n",
      "Lendo arquivo: C:\\Users\\elxy\\Documents\\Codigos\\Python\\P84_85\\LDs\\TodasLDs\\I-LD-3010.2S-1200-911-HG8-001_PRESSURE VACUUM RELIEF VALVE.xlsx\n"
     ]
    },
    {
     "name": "stderr",
     "output_type": "stream",
     "text": [
      "c:\\Users\\ELXY\\Documents\\Codigos\\Python\\.venv\\Lib\\site-packages\\openpyxl\\worksheet\\_reader.py:329: UserWarning: Data Validation extension is not supported and will be removed\n",
      "  warn(msg)\n",
      "c:\\Users\\ELXY\\Documents\\Codigos\\Python\\.venv\\Lib\\site-packages\\openpyxl\\worksheet\\_reader.py:329: UserWarning: Data Validation extension is not supported and will be removed\n",
      "  warn(msg)\n",
      "c:\\Users\\ELXY\\Documents\\Codigos\\Python\\.venv\\Lib\\site-packages\\openpyxl\\worksheet\\_reader.py:329: UserWarning: Data Validation extension is not supported and will be removed\n",
      "  warn(msg)\n"
     ]
    },
    {
     "name": "stdout",
     "output_type": "stream",
     "text": [
      "Lendo arquivo: C:\\Users\\elxy\\Documents\\Codigos\\Python\\P84_85\\LDs\\TodasLDs\\I-LD-3010.2S-1200-911-HM9-001_0_PRESSURE VESSELS_TS.xlsx\n"
     ]
    },
    {
     "name": "stderr",
     "output_type": "stream",
     "text": [
      "c:\\Users\\ELXY\\Documents\\Codigos\\Python\\.venv\\Lib\\site-packages\\openpyxl\\worksheet\\_reader.py:329: UserWarning: Data Validation extension is not supported and will be removed\n",
      "  warn(msg)\n",
      "c:\\Users\\ELXY\\Documents\\Codigos\\Python\\.venv\\Lib\\site-packages\\openpyxl\\worksheet\\_reader.py:329: UserWarning: Data Validation extension is not supported and will be removed\n",
      "  warn(msg)\n",
      "c:\\Users\\ELXY\\Documents\\Codigos\\Python\\.venv\\Lib\\site-packages\\openpyxl\\worksheet\\_reader.py:329: UserWarning: Data Validation extension is not supported and will be removed\n",
      "  warn(msg)\n"
     ]
    },
    {
     "name": "stdout",
     "output_type": "stream",
     "text": [
      "Lendo arquivo: C:\\Users\\elxy\\Documents\\Codigos\\Python\\P84_85\\LDs\\TodasLDs\\I-LD-3010.2S-1200-911-HYE-001_NON_METALLIC_TANKS.xlsx\n",
      "Lendo arquivo: C:\\Users\\elxy\\Documents\\Codigos\\Python\\P84_85\\LDs\\TodasLDs\\I-LD-3010.2S-1200-911-J7B-001_Manual Valve JIANGSU.xlsx\n",
      "Lendo arquivo: C:\\Users\\elxy\\Documents\\Codigos\\Python\\P84_85\\LDs\\TodasLDs\\I-LD-3010.2S-1200-911-KFQ-001_0_comments.xlsx\n"
     ]
    },
    {
     "name": "stderr",
     "output_type": "stream",
     "text": [
      "c:\\Users\\ELXY\\Documents\\Codigos\\Python\\.venv\\Lib\\site-packages\\openpyxl\\worksheet\\_reader.py:329: UserWarning: Data Validation extension is not supported and will be removed\n",
      "  warn(msg)\n",
      "c:\\Users\\ELXY\\Documents\\Codigos\\Python\\.venv\\Lib\\site-packages\\openpyxl\\worksheet\\_reader.py:329: UserWarning: Data Validation extension is not supported and will be removed\n",
      "  warn(msg)\n",
      "c:\\Users\\ELXY\\Documents\\Codigos\\Python\\.venv\\Lib\\site-packages\\openpyxl\\worksheet\\_reader.py:329: UserWarning: Data Validation extension is not supported and will be removed\n",
      "  warn(msg)\n"
     ]
    },
    {
     "name": "stdout",
     "output_type": "stream",
     "text": [
      "Lendo arquivo: C:\\Users\\elxy\\Documents\\Codigos\\Python\\P84_85\\LDs\\TodasLDs\\I-LD-3010.2S-1200-911-NJZ-001_MANUAL VALVE-BUTTERFLY VALVE.xlsx\n",
      "Lendo arquivo: C:\\Users\\elxy\\Documents\\Codigos\\Python\\P84_85\\LDs\\TodasLDs\\I-LD-3010.2S-1200-911-S1O-001_FRP PIPE.xlsx\n",
      "Lendo arquivo: C:\\Users\\elxy\\Documents\\Codigos\\Python\\P84_85\\LDs\\TodasLDs\\I-LD-3010.2S-1200-911-VWT-001_0 - SWT Veolia.xlsx\n",
      "Lendo arquivo: C:\\Users\\elxy\\Documents\\Codigos\\Python\\P84_85\\LDs\\TodasLDs\\I-LD-3010.2S-1200-911-VWT-001_0_Sea Water Treatment.xlsx\n",
      "Lendo arquivo: C:\\Users\\elxy\\Documents\\Codigos\\Python\\P84_85\\LDs\\TodasLDs\\I-LD-3010.2S-1200-940-A2U-001_PLATE HEAT EXCHANGER.xlsx\n",
      "Lendo arquivo: C:\\Users\\elxy\\Documents\\Codigos\\Python\\P84_85\\LDs\\TodasLDs\\I-LD-3010.2S-1200-940-ATI-001_0_comments.xlsx\n",
      "Lendo arquivo: C:\\Users\\elxy\\Documents\\Codigos\\Python\\P84_85\\LDs\\TodasLDs\\I-LD-3010.2S-1200-940-HBA-001_SELF CLEANING FILTERS.xlsx\n"
     ]
    },
    {
     "name": "stderr",
     "output_type": "stream",
     "text": [
      "c:\\Users\\ELXY\\Documents\\Codigos\\Python\\.venv\\Lib\\site-packages\\openpyxl\\worksheet\\_reader.py:329: UserWarning: Data Validation extension is not supported and will be removed\n",
      "  warn(msg)\n",
      "c:\\Users\\ELXY\\Documents\\Codigos\\Python\\.venv\\Lib\\site-packages\\openpyxl\\worksheet\\_reader.py:329: UserWarning: Data Validation extension is not supported and will be removed\n",
      "  warn(msg)\n",
      "c:\\Users\\ELXY\\Documents\\Codigos\\Python\\.venv\\Lib\\site-packages\\openpyxl\\worksheet\\_reader.py:329: UserWarning: Data Validation extension is not supported and will be removed\n",
      "  warn(msg)\n"
     ]
    },
    {
     "name": "stdout",
     "output_type": "stream",
     "text": [
      "Lendo arquivo: C:\\Users\\elxy\\Documents\\Codigos\\Python\\P84_85\\LDs\\TodasLDs\\I-LD-3010.2S-1200-940-HLT-001_0_comments.xlsx\n",
      "Lendo arquivo: C:\\Users\\elxy\\Documents\\Codigos\\Python\\P84_85\\LDs\\TodasLDs\\I-LD-3010.2S-1200-940-KD9-001_0_comments.xlsx\n"
     ]
    },
    {
     "name": "stderr",
     "output_type": "stream",
     "text": [
      "c:\\Users\\ELXY\\Documents\\Codigos\\Python\\.venv\\Lib\\site-packages\\openpyxl\\worksheet\\_reader.py:329: UserWarning: Data Validation extension is not supported and will be removed\n",
      "  warn(msg)\n",
      "c:\\Users\\ELXY\\Documents\\Codigos\\Python\\.venv\\Lib\\site-packages\\openpyxl\\worksheet\\_reader.py:329: UserWarning: Data Validation extension is not supported and will be removed\n",
      "  warn(msg)\n",
      "c:\\Users\\ELXY\\Documents\\Codigos\\Python\\.venv\\Lib\\site-packages\\openpyxl\\worksheet\\_reader.py:329: UserWarning: Data Validation extension is not supported and will be removed\n",
      "  warn(msg)\n"
     ]
    },
    {
     "name": "stdout",
     "output_type": "stream",
     "text": [
      "Lendo arquivo: C:\\Users\\elxy\\Documents\\Codigos\\Python\\P84_85\\LDs\\TodasLDs\\I-LD-3010.2S-1200-940-MKA-0001_0_BASKET FILTERS BRAZIL.xlsx\n",
      "Lendo arquivo: C:\\Users\\elxy\\Documents\\Codigos\\Python\\P84_85\\LDs\\TodasLDs\\I-LD-3010.2S-120N-940-KD9-001_0_comments.xlsx\n",
      "Lendo arquivo: C:\\Users\\elxy\\Documents\\Codigos\\Python\\P84_85\\LDs\\TodasLDs\\I-LD-3010.2S-1210-911-AP5-001_0_comments.xlsx\n"
     ]
    },
    {
     "name": "stderr",
     "output_type": "stream",
     "text": [
      "c:\\Users\\ELXY\\Documents\\Codigos\\Python\\.venv\\Lib\\site-packages\\openpyxl\\worksheet\\_reader.py:329: UserWarning: Data Validation extension is not supported and will be removed\n",
      "  warn(msg)\n",
      "c:\\Users\\ELXY\\Documents\\Codigos\\Python\\.venv\\Lib\\site-packages\\openpyxl\\worksheet\\_reader.py:329: UserWarning: Data Validation extension is not supported and will be removed\n",
      "  warn(msg)\n"
     ]
    },
    {
     "name": "stdout",
     "output_type": "stream",
     "text": [
      "Lendo arquivo: C:\\Users\\elxy\\Documents\\Codigos\\Python\\P84_85\\LDs\\TodasLDs\\I-LD-3010.2S-1210-911-TYP-001_HPU_SUBSEA_comments.xlsx\n",
      "Lendo arquivo: C:\\Users\\elxy\\Documents\\Codigos\\Python\\P84_85\\LDs\\TodasLDs\\I-LD-3010.2S-1223-940-CT6-001_0 - OIL SEPARATOR AND DEHYDRATOR.xlsx\n",
      "Lendo arquivo: C:\\Users\\elxy\\Documents\\Codigos\\Python\\P84_85\\LDs\\TodasLDs\\I-LD-3010.2S-1223-940-HM9-001_A_comments.xlsx\n"
     ]
    },
    {
     "name": "stderr",
     "output_type": "stream",
     "text": [
      "c:\\Users\\ELXY\\Documents\\Codigos\\Python\\.venv\\Lib\\site-packages\\openpyxl\\worksheet\\_reader.py:329: UserWarning: Data Validation extension is not supported and will be removed\n",
      "  warn(msg)\n",
      "c:\\Users\\ELXY\\Documents\\Codigos\\Python\\.venv\\Lib\\site-packages\\openpyxl\\worksheet\\_reader.py:329: UserWarning: Data Validation extension is not supported and will be removed\n",
      "  warn(msg)\n",
      "c:\\Users\\ELXY\\Documents\\Codigos\\Python\\.venv\\Lib\\site-packages\\openpyxl\\worksheet\\_reader.py:329: UserWarning: Data Validation extension is not supported and will be removed\n",
      "  warn(msg)\n"
     ]
    },
    {
     "name": "stdout",
     "output_type": "stream",
     "text": [
      "Lendo arquivo: C:\\Users\\elxy\\Documents\\Codigos\\Python\\P84_85\\LDs\\TodasLDs\\I-LD-3010.2S-1223-940-YA7-001_Pressure Vessels.XLSX\n",
      "Lendo arquivo: C:\\Users\\elxy\\Documents\\Codigos\\Python\\P84_85\\LDs\\TodasLDs\\I-LD-3010.2S-1225-911-MQ7-001_0 - VRU.xlsx\n",
      "Lendo arquivo: C:\\Users\\elxy\\Documents\\Codigos\\Python\\P84_85\\LDs\\TodasLDs\\I-LD-3010.2S-1233-911-FI4-001_RevXX P84 GDU.xlsx\n"
     ]
    },
    {
     "name": "stderr",
     "output_type": "stream",
     "text": [
      "c:\\Users\\ELXY\\Documents\\Codigos\\Python\\.venv\\Lib\\site-packages\\openpyxl\\worksheet\\_reader.py:329: UserWarning: Data Validation extension is not supported and will be removed\n",
      "  warn(msg)\n",
      "c:\\Users\\ELXY\\Documents\\Codigos\\Python\\.venv\\Lib\\site-packages\\openpyxl\\worksheet\\_reader.py:329: UserWarning: Data Validation extension is not supported and will be removed\n",
      "  warn(msg)\n",
      "c:\\Users\\ELXY\\Documents\\Codigos\\Python\\.venv\\Lib\\site-packages\\openpyxl\\worksheet\\_reader.py:329: UserWarning: Data Validation extension is not supported and will be removed\n",
      "  warn(msg)\n"
     ]
    },
    {
     "name": "stdout",
     "output_type": "stream",
     "text": [
      "Lendo arquivo: C:\\Users\\elxy\\Documents\\Codigos\\Python\\P84_85\\LDs\\TodasLDs\\I-LD-3010.2S-1233-940-SZ3-001_0_MOL_SIEVE_COMPRESSOR.xlsx\n",
      "Lendo arquivo: C:\\Users\\elxy\\Documents\\Codigos\\Python\\P84_85\\LDs\\TodasLDs\\I-LD-3010.2S-1235-940-C7J-001_CO2 Removal Unit_rev_C.xlsx\n",
      "Lendo arquivo: C:\\Users\\elxy\\Documents\\Codigos\\Python\\P84_85\\LDs\\TodasLDs\\I-LD-3010.2S-1238-560-M4D-001_0_HCDP_final 1.xlsx\n"
     ]
    },
    {
     "name": "stderr",
     "output_type": "stream",
     "text": [
      "c:\\Users\\ELXY\\Documents\\Codigos\\Python\\.venv\\Lib\\site-packages\\openpyxl\\worksheet\\_reader.py:329: UserWarning: Data Validation extension is not supported and will be removed\n",
      "  warn(msg)\n"
     ]
    },
    {
     "name": "stdout",
     "output_type": "stream",
     "text": [
      "Lendo arquivo: C:\\Users\\elxy\\Documents\\Codigos\\Python\\P84_85\\LDs\\TodasLDs\\I-LD-3010.2S-1251-911-SJA-001_B_comments.xlsx\n"
     ]
    },
    {
     "name": "stderr",
     "output_type": "stream",
     "text": [
      "c:\\Users\\ELXY\\Documents\\Codigos\\Python\\.venv\\Lib\\site-packages\\openpyxl\\worksheet\\_reader.py:329: UserWarning: Data Validation extension is not supported and will be removed\n",
      "  warn(msg)\n",
      "c:\\Users\\ELXY\\Documents\\Codigos\\Python\\.venv\\Lib\\site-packages\\openpyxl\\worksheet\\_reader.py:329: UserWarning: Data Validation extension is not supported and will be removed\n",
      "  warn(msg)\n"
     ]
    },
    {
     "name": "stdout",
     "output_type": "stream",
     "text": [
      "Lendo arquivo: C:\\Users\\elxy\\Documents\\Codigos\\Python\\P84_85\\LDs\\TodasLDs\\I-LD-3010.2S-1260-xxx-LWN-yyy_CHEMICAL INJECTION.xlsx\n",
      "Lendo arquivo: C:\\Users\\elxy\\Documents\\Codigos\\Python\\P84_85\\LDs\\TodasLDs\\I-LD-3010.2S-1300-140-CY5-001_CONTROL AND MONITORING SYSTEM RISER SUPP.xlsx\n",
      "Lendo arquivo: C:\\Users\\elxy\\Documents\\Codigos\\Python\\P84_85\\LDs\\TodasLDs\\I-LD-3010.2S-1300-279-CY5-001_TSUDL & BSDL.xlsx\n",
      "Lendo arquivo: C:\\Users\\elxy\\Documents\\Codigos\\Python\\P84_85\\LDs\\TodasLDs\\I-LD-3010.2S-1350-191-HJ8-001_GALLEY MESSROOM AND LAUNDRY EQUIPMENT.xlsx\n",
      "Lendo arquivo: C:\\Users\\elxy\\Documents\\Codigos\\Python\\P84_85\\LDs\\TodasLDs\\I-LD-3010.2S-1350-191-QB3-001_Gymnasium equipment.xlsx\n",
      "Lendo arquivo: C:\\Users\\elxy\\Documents\\Codigos\\Python\\P84_85\\LDs\\TodasLDs\\I-LD-3010.2S-1350-800-BK8-001_Flow transmitter (Magnetic).xlsx\n"
     ]
    },
    {
     "name": "stderr",
     "output_type": "stream",
     "text": [
      "c:\\Users\\ELXY\\Documents\\Codigos\\Python\\.venv\\Lib\\site-packages\\openpyxl\\worksheet\\_reader.py:329: UserWarning: Data Validation extension is not supported and will be removed\n",
      "  warn(msg)\n",
      "c:\\Users\\ELXY\\Documents\\Codigos\\Python\\.venv\\Lib\\site-packages\\openpyxl\\worksheet\\_reader.py:329: UserWarning: Data Validation extension is not supported and will be removed\n",
      "  warn(msg)\n",
      "c:\\Users\\ELXY\\Documents\\Codigos\\Python\\.venv\\Lib\\site-packages\\openpyxl\\worksheet\\_reader.py:329: UserWarning: Data Validation extension is not supported and will be removed\n",
      "  warn(msg)\n"
     ]
    },
    {
     "name": "stdout",
     "output_type": "stream",
     "text": [
      "Lendo arquivo: C:\\Users\\elxy\\Documents\\Codigos\\Python\\P84_85\\LDs\\TodasLDs\\I-LD-3010.2S-1350-800-FK8-001_FLOW TRANSMITTER (ROTAMETER).xlsx\n",
      "Lendo arquivo: C:\\Users\\elxy\\Documents\\Codigos\\Python\\P84_85\\LDs\\TodasLDs\\I-LD-3010.2S-1350-800-TO4-001_PRESSUREDIFFERENTIAL PRESSURE GAUGE.xlsx\n",
      "Lendo arquivo: C:\\Users\\elxy\\Documents\\Codigos\\Python\\P84_85\\LDs\\TodasLDs\\I-LD-3010.2S-1350-814-TO4-001_LEVEL GAUGE.xlsx\n",
      "Lendo arquivo: C:\\Users\\elxy\\Documents\\Codigos\\Python\\P84_85\\LDs\\TodasLDs\\I-LD-3010.2S-1350-911-WF1-101_External Door.xlsx\n"
     ]
    },
    {
     "name": "stderr",
     "output_type": "stream",
     "text": [
      "c:\\Users\\ELXY\\Documents\\Codigos\\Python\\.venv\\Lib\\site-packages\\openpyxl\\worksheet\\_reader.py:329: UserWarning: Data Validation extension is not supported and will be removed\n",
      "  warn(msg)\n",
      "c:\\Users\\ELXY\\Documents\\Codigos\\Python\\.venv\\Lib\\site-packages\\openpyxl\\worksheet\\_reader.py:329: UserWarning: Data Validation extension is not supported and will be removed\n",
      "  warn(msg)\n",
      "c:\\Users\\ELXY\\Documents\\Codigos\\Python\\.venv\\Lib\\site-packages\\openpyxl\\worksheet\\_reader.py:329: UserWarning: Data Validation extension is not supported and will be removed\n",
      "  warn(msg)\n",
      "c:\\Users\\ELXY\\Documents\\Codigos\\Python\\.venv\\Lib\\site-packages\\openpyxl\\worksheet\\_reader.py:329: UserWarning: Data Validation extension is not supported and will be removed\n",
      "  warn(msg)\n"
     ]
    },
    {
     "name": "stdout",
     "output_type": "stream",
     "text": [
      "Lendo arquivo: C:\\Users\\elxy\\Documents\\Codigos\\Python\\P84_85\\LDs\\TodasLDs\\I-LD-3010.2S-1351-200-BTZ-001_CHEMICAL INJECTION POINT.xlsx\n",
      "Lendo arquivo: C:\\Users\\elxy\\Documents\\Codigos\\Python\\P84_85\\LDs\\TodasLDs\\I-LD-3010.2S-1351-200-YJP-001_RISER HARD PIPE SUPPORT SYSTEM.xlsx\n",
      "Lendo arquivo: C:\\Users\\elxy\\Documents\\Codigos\\Python\\P84_85\\LDs\\TodasLDs\\I-LD-3010.2S-1351-220-ZH8-001_MANUAL VALVE.xlsx\n",
      "Lendo arquivo: C:\\Users\\elxy\\Documents\\Codigos\\Python\\P84_85\\LDs\\TodasLDs\\I-LD-3010.2S-1351-253-TQ8-001_EXPANSION JOINT.xlsx\n"
     ]
    },
    {
     "name": "stderr",
     "output_type": "stream",
     "text": [
      "c:\\Users\\ELXY\\Documents\\Codigos\\Python\\.venv\\Lib\\site-packages\\openpyxl\\worksheet\\_reader.py:329: UserWarning: Data Validation extension is not supported and will be removed\n",
      "  warn(msg)\n",
      "c:\\Users\\ELXY\\Documents\\Codigos\\Python\\.venv\\Lib\\site-packages\\openpyxl\\worksheet\\_reader.py:329: UserWarning: Data Validation extension is not supported and will be removed\n",
      "  warn(msg)\n",
      "c:\\Users\\ELXY\\Documents\\Codigos\\Python\\.venv\\Lib\\site-packages\\openpyxl\\worksheet\\_reader.py:329: UserWarning: Data Validation extension is not supported and will be removed\n",
      "  warn(msg)\n",
      "c:\\Users\\ELXY\\Documents\\Codigos\\Python\\.venv\\Lib\\site-packages\\openpyxl\\worksheet\\_reader.py:329: UserWarning: Data Validation extension is not supported and will be removed\n",
      "  warn(msg)\n"
     ]
    },
    {
     "name": "stdout",
     "output_type": "stream",
     "text": [
      "Lendo arquivo: C:\\Users\\elxy\\Documents\\Codigos\\Python\\P84_85\\LDs\\TodasLDs\\I-LD-3010.2S-1351-264-A1K-201_SEAWATER INTAKE HOSE.xlsx\n",
      "Lendo arquivo: C:\\Users\\elxy\\Documents\\Codigos\\Python\\P84_85\\LDs\\TodasLDs\\I-LD-3010.2S-1351-797-AIW-001_ESA.xlsx\n",
      "Lendo arquivo: C:\\Users\\elxy\\Documents\\Codigos\\Python\\P84_85\\LDs\\TodasLDs\\I-LD-3010.2S-1351-800-AK1-501_0_CSS.xlsx\n"
     ]
    },
    {
     "name": "stderr",
     "output_type": "stream",
     "text": [
      "c:\\Users\\ELXY\\Documents\\Codigos\\Python\\.venv\\Lib\\site-packages\\openpyxl\\worksheet\\_reader.py:329: UserWarning: Data Validation extension is not supported and will be removed\n",
      "  warn(msg)\n",
      "c:\\Users\\ELXY\\Documents\\Codigos\\Python\\.venv\\Lib\\site-packages\\openpyxl\\worksheet\\_reader.py:329: UserWarning: Data Validation extension is not supported and will be removed\n",
      "  warn(msg)\n",
      "c:\\Users\\ELXY\\Documents\\Codigos\\Python\\.venv\\Lib\\site-packages\\openpyxl\\worksheet\\_reader.py:329: UserWarning: Data Validation extension is not supported and will be removed\n",
      "  warn(msg)\n"
     ]
    },
    {
     "name": "stdout",
     "output_type": "stream",
     "text": [
      "Lendo arquivo: C:\\Users\\elxy\\Documents\\Codigos\\Python\\P84_85\\LDs\\TodasLDs\\I-LD-3010.2S-1351-800-B8R-001_FLOW TRANSMITTER (ORIFICE).xlsx\n",
      "Lendo arquivo: C:\\Users\\elxy\\Documents\\Codigos\\Python\\P84_85\\LDs\\TodasLDs\\I-LD-3010.2S-1351-800-CW5-001_CENTRAL CONSOLE.xlsx\n",
      "Lendo arquivo: C:\\Users\\elxy\\Documents\\Codigos\\Python\\P84_85\\LDs\\TodasLDs\\I-LD-3010.2S-1351-800-ODK-001_HOSPITAL CALL ALARM SYSTEM.xlsx\n",
      "Lendo arquivo: C:\\Users\\elxy\\Documents\\Codigos\\Python\\P84_85\\LDs\\TodasLDs\\I-LD-3010.2S-1351-812-B8R-001_Restriction Oriffice.xlsx\n"
     ]
    },
    {
     "name": "stderr",
     "output_type": "stream",
     "text": [
      "c:\\Users\\ELXY\\Documents\\Codigos\\Python\\.venv\\Lib\\site-packages\\openpyxl\\worksheet\\_reader.py:329: UserWarning: Data Validation extension is not supported and will be removed\n",
      "  warn(msg)\n",
      "c:\\Users\\ELXY\\Documents\\Codigos\\Python\\.venv\\Lib\\site-packages\\openpyxl\\worksheet\\_reader.py:329: UserWarning: Data Validation extension is not supported and will be removed\n",
      "  warn(msg)\n",
      "c:\\Users\\ELXY\\Documents\\Codigos\\Python\\.venv\\Lib\\site-packages\\openpyxl\\worksheet\\_reader.py:329: UserWarning: Data Validation extension is not supported and will be removed\n",
      "  warn(msg)\n",
      "c:\\Users\\ELXY\\Documents\\Codigos\\Python\\.venv\\Lib\\site-packages\\openpyxl\\worksheet\\_reader.py:329: UserWarning: Data Validation extension is not supported and will be removed\n",
      "  warn(msg)\n",
      "c:\\Users\\ELXY\\Documents\\Codigos\\Python\\.venv\\Lib\\site-packages\\openpyxl\\worksheet\\_reader.py:329: UserWarning: Data Validation extension is not supported and will be removed\n",
      "  warn(msg)\n",
      "c:\\Users\\ELXY\\Documents\\Codigos\\Python\\.venv\\Lib\\site-packages\\openpyxl\\worksheet\\_reader.py:329: UserWarning: Data Validation extension is not supported and will be removed\n",
      "  warn(msg)\n",
      "c:\\Users\\ELXY\\Documents\\Codigos\\Python\\.venv\\Lib\\site-packages\\openpyxl\\worksheet\\_reader.py:329: UserWarning: Data Validation extension is not supported and will be removed\n",
      "  warn(msg)\n"
     ]
    },
    {
     "name": "stdout",
     "output_type": "stream",
     "text": [
      "Lendo arquivo: C:\\Users\\elxy\\Documents\\Codigos\\Python\\P84_85\\LDs\\TodasLDs\\I-LD-3010.2S-1351-814-B8R-001_LEVEL TRANSMITTER (DIFFERENTIAL PRESSURE).xlsx\n",
      "Lendo arquivo: C:\\Users\\elxy\\Documents\\Codigos\\Python\\P84_85\\LDs\\TodasLDs\\I-LD-3010.2S-1351-814-EP8-001_LEVEL TRANSMITTER (RADAR).xlsx\n",
      "Lendo arquivo: C:\\Users\\elxy\\Documents\\Codigos\\Python\\P84_85\\LDs\\TodasLDs\\I-LD-3010.2S-1351-820-EQ9-001_ ELECTROMAGNETIC DOOR HOLDER & OPEN DOOR LIMIT SWITCH.xlsx\n",
      "Lendo arquivo: C:\\Users\\elxy\\Documents\\Codigos\\Python\\P84_85\\LDs\\TodasLDs\\I-LD-3010.2S-1351-835-HG7-001_RUPTURE DISK.xlsx\n"
     ]
    },
    {
     "name": "stderr",
     "output_type": "stream",
     "text": [
      "c:\\Users\\ELXY\\Documents\\Codigos\\Python\\.venv\\Lib\\site-packages\\openpyxl\\worksheet\\_reader.py:329: UserWarning: Data Validation extension is not supported and will be removed\n",
      "  warn(msg)\n",
      "c:\\Users\\ELXY\\Documents\\Codigos\\Python\\.venv\\Lib\\site-packages\\openpyxl\\worksheet\\_reader.py:329: UserWarning: Data Validation extension is not supported and will be removed\n",
      "  warn(msg)\n",
      "c:\\Users\\ELXY\\Documents\\Codigos\\Python\\.venv\\Lib\\site-packages\\openpyxl\\worksheet\\_reader.py:329: UserWarning: Data Validation extension is not supported and will be removed\n",
      "  warn(msg)\n",
      "c:\\Users\\ELXY\\Documents\\Codigos\\Python\\.venv\\Lib\\site-packages\\openpyxl\\worksheet\\_reader.py:329: UserWarning: Data Validation extension is not supported and will be removed\n",
      "  warn(msg)\n"
     ]
    },
    {
     "name": "stdout",
     "output_type": "stream",
     "text": [
      "Lendo arquivo: C:\\Users\\elxy\\Documents\\Codigos\\Python\\P84_85\\LDs\\TodasLDs\\I-LD-3010.2S-1351-835-NG7-001_QUICK CLOSING VALVE.xlsx\n",
      "Lendo arquivo: C:\\Users\\elxy\\Documents\\Codigos\\Python\\P84_85\\LDs\\TodasLDs\\I-LD-3010.2S-1351-841-BL4-001_Pressure relief valve.xlsx\n",
      "Lendo arquivo: C:\\Users\\elxy\\Documents\\Codigos\\Python\\P84_85\\LDs\\TodasLDs\\I-LD-3010.2S-1351-850-E8H-001_Analyzer(Toxic Gas).xlsx\n",
      "Lendo arquivo: C:\\Users\\elxy\\Documents\\Codigos\\Python\\P84_85\\LDs\\TodasLDs\\I-LD-3010.2S-1351-852-E8H-001_ANALYZER (OXYGEN).xlsx\n"
     ]
    },
    {
     "name": "stderr",
     "output_type": "stream",
     "text": [
      "c:\\Users\\ELXY\\Documents\\Codigos\\Python\\.venv\\Lib\\site-packages\\openpyxl\\worksheet\\_reader.py:329: UserWarning: Data Validation extension is not supported and will be removed\n",
      "  warn(msg)\n",
      "c:\\Users\\ELXY\\Documents\\Codigos\\Python\\.venv\\Lib\\site-packages\\openpyxl\\worksheet\\_reader.py:329: UserWarning: Data Validation extension is not supported and will be removed\n",
      "  warn(msg)\n",
      "c:\\Users\\ELXY\\Documents\\Codigos\\Python\\.venv\\Lib\\site-packages\\openpyxl\\worksheet\\_reader.py:329: UserWarning: Data Validation extension is not supported and will be removed\n",
      "  warn(msg)\n"
     ]
    },
    {
     "name": "stdout",
     "output_type": "stream",
     "text": [
      "Lendo arquivo: C:\\Users\\elxy\\Documents\\Codigos\\Python\\P84_85\\LDs\\TodasLDs\\I-LD-3010.2S-1351-88A-QB8-001_ Instrument Junction box.xlsx\n",
      "Lendo arquivo: C:\\Users\\elxy\\Documents\\Codigos\\Python\\P84_85\\LDs\\TodasLDs\\I-LD-3010.2S-1351-900-HG7-001_FLAME ARRESTOR.xlsx\n",
      "Lendo arquivo: C:\\Users\\elxy\\Documents\\Codigos\\Python\\P84_85\\LDs\\TodasLDs\\I-LD-3010.2S-1351-911-DJ5-001_TEMPERATURE GAUGE.xlsx\n",
      "Lendo arquivo: C:\\Users\\elxy\\Documents\\Codigos\\Python\\P84_85\\LDs\\TodasLDs\\I-LD-3010.2S-1351-911-DQK-001_Pressure regulator.xlsx\n"
     ]
    },
    {
     "name": "stderr",
     "output_type": "stream",
     "text": [
      "c:\\Users\\ELXY\\Documents\\Codigos\\Python\\.venv\\Lib\\site-packages\\openpyxl\\worksheet\\_reader.py:329: UserWarning: Data Validation extension is not supported and will be removed\n",
      "  warn(msg)\n",
      "c:\\Users\\ELXY\\Documents\\Codigos\\Python\\.venv\\Lib\\site-packages\\openpyxl\\worksheet\\_reader.py:329: UserWarning: Data Validation extension is not supported and will be removed\n",
      "  warn(msg)\n",
      "c:\\Users\\ELXY\\Documents\\Codigos\\Python\\.venv\\Lib\\site-packages\\openpyxl\\worksheet\\_reader.py:329: UserWarning: Data Validation extension is not supported and will be removed\n",
      "  warn(msg)\n"
     ]
    },
    {
     "name": "stdout",
     "output_type": "stream",
     "text": [
      "Lendo arquivo: C:\\Users\\elxy\\Documents\\Codigos\\Python\\P84_85\\LDs\\TodasLDs\\I-LD-3010.2S-1351-911-HH6-001_Control Valve.xlsx\n",
      "Lendo arquivo: C:\\Users\\elxy\\Documents\\Codigos\\Python\\P84_85\\LDs\\TodasLDs\\I-LD-3010.2S-1351-911-WXG-001_ON-OFF VALVE.xlsx\n",
      "Lendo arquivo: C:\\Users\\elxy\\Documents\\Codigos\\Python\\P84_85\\LDs\\TodasLDs\\I-LD-3010.2S-1351-911-YA8-001_TEMPERATURE TRANSMITTER.xlsx\n",
      "Lendo arquivo: C:\\Users\\elxy\\Documents\\Codigos\\Python\\P84_85\\LDs\\TodasLDs\\I-LD-3010.2S-1351-91A-HHG-001_HSTS.xlsx\n",
      "Lendo arquivo: C:\\Users\\elxy\\Documents\\Codigos\\Python\\P84_85\\LDs\\TodasLDs\\I-LD-3010.2S-1351-940-HH5-001_STRUCTURE HEALTH MONITORING SYSTEM.xlsx\n",
      "Lendo arquivo: C:\\Users\\elxy\\Documents\\Codigos\\Python\\P84_85\\LDs\\TodasLDs\\I-LD-3010.2S-1351-940-QIN-301_ICCP SYSTEM.xlsx\n",
      "Lendo arquivo: C:\\Users\\elxy\\Documents\\Codigos\\Python\\P84_85\\LDs\\TodasLDs\\I-LD-3010.2S-1351-940-YA7-001_Independent tank.XLSX\n",
      "Lendo arquivo: C:\\Users\\elxy\\Documents\\Codigos\\Python\\P84_85\\LDs\\TodasLDs\\I-LD-3010.2S-1357-91A-NVA-001_Mooring.xlsx\n"
     ]
    },
    {
     "name": "stderr",
     "output_type": "stream",
     "text": [
      "c:\\Users\\ELXY\\Documents\\Codigos\\Python\\.venv\\Lib\\site-packages\\openpyxl\\worksheet\\_reader.py:329: UserWarning: Data Validation extension is not supported and will be removed\n",
      "  warn(msg)\n",
      "c:\\Users\\ELXY\\Documents\\Codigos\\Python\\.venv\\Lib\\site-packages\\openpyxl\\worksheet\\_reader.py:329: UserWarning: Data Validation extension is not supported and will be removed\n",
      "  warn(msg)\n",
      "c:\\Users\\ELXY\\Documents\\Codigos\\Python\\.venv\\Lib\\site-packages\\openpyxl\\worksheet\\_reader.py:329: UserWarning: Data Validation extension is not supported and will be removed\n",
      "  warn(msg)\n",
      "c:\\Users\\ELXY\\Documents\\Codigos\\Python\\.venv\\Lib\\site-packages\\openpyxl\\worksheet\\_reader.py:329: UserWarning: Data Validation extension is not supported and will be removed\n",
      "  warn(msg)\n",
      "c:\\Users\\ELXY\\Documents\\Codigos\\Python\\.venv\\Lib\\site-packages\\openpyxl\\worksheet\\_reader.py:329: UserWarning: Data Validation extension is not supported and will be removed\n",
      "  warn(msg)\n"
     ]
    },
    {
     "name": "stdout",
     "output_type": "stream",
     "text": [
      "Lendo arquivo: C:\\Users\\elxy\\Documents\\Codigos\\Python\\P84_85\\LDs\\TodasLDs\\I-LD-3010.2S-1357-91A-NVA-001_Mooring_SUB.xlsx\n",
      "Lendo arquivo: C:\\Users\\elxy\\Documents\\Codigos\\Python\\P84_85\\LDs\\TodasLDs\\I-LD-3010.2S-1359-91A-TLW-001_OFFLOADING SYSEM PACKAGE.xlsx\n",
      "Lendo arquivo: C:\\Users\\elxy\\Documents\\Codigos\\Python\\P84_85\\LDs\\TodasLDs\\I-LD-3010.2S-1400-170-AIW-001_0_EHOUSE.xlsx\n"
     ]
    },
    {
     "name": "stderr",
     "output_type": "stream",
     "text": [
      "c:\\Users\\ELXY\\Documents\\Codigos\\Python\\.venv\\Lib\\site-packages\\openpyxl\\worksheet\\_reader.py:329: UserWarning: Data Validation extension is not supported and will be removed\n",
      "  warn(msg)\n"
     ]
    },
    {
     "name": "stdout",
     "output_type": "stream",
     "text": [
      "Lendo arquivo: C:\\Users\\elxy\\Documents\\Codigos\\Python\\P84_85\\LDs\\TodasLDs\\I-LD-3010.2S-1400-170-AIW-001_0_EHOUSE1.xlsx\n"
     ]
    },
    {
     "name": "stderr",
     "output_type": "stream",
     "text": [
      "c:\\Users\\ELXY\\Documents\\Codigos\\Python\\.venv\\Lib\\site-packages\\openpyxl\\worksheet\\_reader.py:329: UserWarning: Data Validation extension is not supported and will be removed\n",
      "  warn(msg)\n",
      "c:\\Users\\ELXY\\Documents\\Codigos\\Python\\.venv\\Lib\\site-packages\\openpyxl\\worksheet\\_reader.py:329: UserWarning: Data Validation extension is not supported and will be removed\n",
      "  warn(msg)\n"
     ]
    },
    {
     "name": "stdout",
     "output_type": "stream",
     "text": [
      "Lendo arquivo: C:\\Users\\elxy\\Documents\\Codigos\\Python\\P84_85\\LDs\\TodasLDs\\I-LD-3010.2S-1400-170-AIW-001_0_EHOUSE2.xlsx\n",
      "Lendo arquivo: C:\\Users\\elxy\\Documents\\Codigos\\Python\\P84_85\\LDs\\TodasLDs\\I-LD-3010.2S-5000-200-DJ6-101_SOUND HEAD.xlsx\n"
     ]
    },
    {
     "name": "stderr",
     "output_type": "stream",
     "text": [
      "c:\\Users\\ELXY\\Documents\\Codigos\\Python\\.venv\\Lib\\site-packages\\openpyxl\\worksheet\\_reader.py:329: UserWarning: Data Validation extension is not supported and will be removed\n",
      "  warn(msg)\n",
      "c:\\Users\\ELXY\\Documents\\Codigos\\Python\\.venv\\Lib\\site-packages\\openpyxl\\worksheet\\_reader.py:329: UserWarning: Data Validation extension is not supported and will be removed\n",
      "  warn(msg)\n",
      "c:\\Users\\ELXY\\Documents\\Codigos\\Python\\.venv\\Lib\\site-packages\\openpyxl\\worksheet\\_reader.py:329: UserWarning: Data Validation extension is not supported and will be removed\n",
      "  warn(msg)\n"
     ]
    },
    {
     "name": "stdout",
     "output_type": "stream",
     "text": [
      "Lendo arquivo: C:\\Users\\elxy\\Documents\\Codigos\\Python\\P84_85\\LDs\\TodasLDs\\I-LD-3010.2S-5000-561-NG7-BASKET AND DUPLEX FILTER.xlsx\n",
      "Lendo arquivo: C:\\Users\\elxy\\Documents\\Codigos\\Python\\P84_85\\LDs\\TodasLDs\\I-LD-3010.2S-5000-911-IZF-001_SELF CLEANING FILTER.xlsx\n",
      "Lendo arquivo: C:\\Users\\elxy\\Documents\\Codigos\\Python\\P84_85\\LDs\\TodasLDs\\I-LD-3010.2S-5000-940-MF4-001_CENTRIFUGAL PUMPS.xlsx\n"
     ]
    },
    {
     "name": "stderr",
     "output_type": "stream",
     "text": [
      "c:\\Users\\ELXY\\Documents\\Codigos\\Python\\.venv\\Lib\\site-packages\\openpyxl\\worksheet\\_reader.py:329: UserWarning: Data Validation extension is not supported and will be removed\n",
      "  warn(msg)\n",
      "c:\\Users\\ELXY\\Documents\\Codigos\\Python\\.venv\\Lib\\site-packages\\openpyxl\\worksheet\\_reader.py:329: UserWarning: Data Validation extension is not supported and will be removed\n",
      "  warn(msg)\n",
      "c:\\Users\\ELXY\\Documents\\Codigos\\Python\\.venv\\Lib\\site-packages\\openpyxl\\worksheet\\_reader.py:329: UserWarning: Data Validation extension is not supported and will be removed\n",
      "  warn(msg)\n"
     ]
    },
    {
     "name": "stdout",
     "output_type": "stream",
     "text": [
      "Lendo arquivo: C:\\Users\\elxy\\Documents\\Codigos\\Python\\P84_85\\LDs\\TodasLDs\\I-LD-3010.2S-5111-940-FM2-001_A_comments.xlsx\n",
      "Lendo arquivo: C:\\Users\\elxy\\Documents\\Codigos\\Python\\P84_85\\LDs\\TodasLDs\\I-LD-3010.2S-5120-940-AZ8-001_Fresh water cooler.xlsx\n",
      "Lendo arquivo: C:\\Users\\elxy\\Documents\\Codigos\\Python\\P84_85\\LDs\\TodasLDs\\I-LD-3010.2S-5121-600-HS1-001_0_Potable_Water_System.xlsx\n"
     ]
    },
    {
     "name": "stderr",
     "output_type": "stream",
     "text": [
      "c:\\Users\\ELXY\\Documents\\Codigos\\Python\\.venv\\Lib\\site-packages\\openpyxl\\worksheet\\_reader.py:329: UserWarning: Data Validation extension is not supported and will be removed\n",
      "  warn(msg)\n",
      "c:\\Users\\ELXY\\Documents\\Codigos\\Python\\.venv\\Lib\\site-packages\\openpyxl\\worksheet\\_reader.py:329: UserWarning: Data Validation extension is not supported and will be removed\n",
      "  warn(msg)\n"
     ]
    },
    {
     "name": "stdout",
     "output_type": "stream",
     "text": [
      "Lendo arquivo: C:\\Users\\elxy\\Documents\\Codigos\\Python\\P84_85\\LDs\\TodasLDs\\I-LD-3010.2S-5121-940-D5A-001_0_comments.xlsx\n",
      "Lendo arquivo: C:\\Users\\elxy\\Documents\\Codigos\\Python\\P84_85\\LDs\\TodasLDs\\I-LD-3010.2S-5122-911-HE1-001_0_FRESH_WATER_MAKER.xlsx\n"
     ]
    },
    {
     "name": "stderr",
     "output_type": "stream",
     "text": [
      "c:\\Users\\ELXY\\Documents\\Codigos\\Python\\.venv\\Lib\\site-packages\\openpyxl\\worksheet\\_reader.py:329: UserWarning: Data Validation extension is not supported and will be removed\n",
      "  warn(msg)\n",
      "c:\\Users\\ELXY\\Documents\\Codigos\\Python\\.venv\\Lib\\site-packages\\openpyxl\\worksheet\\_reader.py:329: UserWarning: Data Validation extension is not supported and will be removed\n",
      "  warn(msg)\n"
     ]
    },
    {
     "name": "stdout",
     "output_type": "stream",
     "text": [
      "Lendo arquivo: C:\\Users\\elxy\\Documents\\Codigos\\Python\\P84_85\\LDs\\TodasLDs\\I-LD-3010.2S-5122-940-D5A-001_A_comments.xlsx\n",
      "Lendo arquivo: C:\\Users\\elxy\\Documents\\Codigos\\Python\\P84_85\\LDs\\TodasLDs\\I-LD-3010.2S-5122-940-HE1-101_0_comments.xlsx\n"
     ]
    },
    {
     "name": "stderr",
     "output_type": "stream",
     "text": [
      "c:\\Users\\ELXY\\Documents\\Codigos\\Python\\.venv\\Lib\\site-packages\\openpyxl\\worksheet\\_reader.py:329: UserWarning: Data Validation extension is not supported and will be removed\n",
      "  warn(msg)\n",
      "c:\\Users\\ELXY\\Documents\\Codigos\\Python\\.venv\\Lib\\site-packages\\openpyxl\\worksheet\\_reader.py:329: UserWarning: Data Validation extension is not supported and will be removed\n",
      "  warn(msg)\n"
     ]
    },
    {
     "name": "stdout",
     "output_type": "stream",
     "text": [
      "Lendo arquivo: C:\\Users\\elxy\\Documents\\Codigos\\Python\\P84_85\\LDs\\TodasLDs\\I-LD-3010.2S-5133-911-KYE-001_Diesel oil purifier.xlsx\n",
      "Lendo arquivo: C:\\Users\\elxy\\Documents\\Codigos\\Python\\P84_85\\LDs\\TodasLDs\\I-LD-3010.2S-5134-320-A2M-001_A_Air compressor.xlsx\n",
      "Lendo arquivo: C:\\Users\\elxy\\Documents\\Codigos\\Python\\P84_85\\LDs\\TodasLDs\\I-LD-3010.2S-5139-311-NG4-001_Cargo pumps.xlsx\n"
     ]
    },
    {
     "name": "stderr",
     "output_type": "stream",
     "text": [
      "c:\\Users\\ELXY\\Documents\\Codigos\\Python\\.venv\\Lib\\site-packages\\openpyxl\\worksheet\\_reader.py:329: UserWarning: Data Validation extension is not supported and will be removed\n",
      "  warn(msg)\n",
      "c:\\Users\\ELXY\\Documents\\Codigos\\Python\\.venv\\Lib\\site-packages\\openpyxl\\worksheet\\_reader.py:329: UserWarning: Data Validation extension is not supported and will be removed\n",
      "  warn(msg)\n",
      "c:\\Users\\ELXY\\Documents\\Codigos\\Python\\.venv\\Lib\\site-packages\\openpyxl\\worksheet\\_reader.py:329: UserWarning: Data Validation extension is not supported and will be removed\n",
      "  warn(msg)\n"
     ]
    },
    {
     "name": "stdout",
     "output_type": "stream",
     "text": [
      "Lendo arquivo: C:\\Users\\elxy\\Documents\\Codigos\\Python\\P84_85\\LDs\\TodasLDs\\I-LD-3010.2S-5139-911-BJ4-001_HPU_TOPSIDE.xlsx\n",
      "Lendo arquivo: C:\\Users\\elxy\\Documents\\Codigos\\Python\\P84_85\\LDs\\TodasLDs\\I-LD-3010.2S-5139-911-NA5-001_HYDRAULIC VALVES REMOCON SYSTEM.xlsx\n",
      "Lendo arquivo: C:\\Users\\elxy\\Documents\\Codigos\\Python\\P84_85\\LDs\\TodasLDs\\I-LD-3010.2S-5140-713-A8S-001_MV Power Package & Transformer.xlsx\n"
     ]
    },
    {
     "name": "stderr",
     "output_type": "stream",
     "text": [
      "c:\\Users\\ELXY\\Documents\\Codigos\\Python\\.venv\\Lib\\site-packages\\openpyxl\\worksheet\\_reader.py:329: UserWarning: Data Validation extension is not supported and will be removed\n",
      "  warn(msg)\n",
      "c:\\Users\\ELXY\\Documents\\Codigos\\Python\\.venv\\Lib\\site-packages\\openpyxl\\worksheet\\_reader.py:329: UserWarning: Data Validation extension is not supported and will be removed\n",
      "  warn(msg)\n",
      "c:\\Users\\ELXY\\Documents\\Codigos\\Python\\.venv\\Lib\\site-packages\\openpyxl\\worksheet\\_reader.py:329: UserWarning: Data Validation extension is not supported and will be removed\n",
      "  warn(msg)\n"
     ]
    },
    {
     "name": "stdout",
     "output_type": "stream",
     "text": [
      "Lendo arquivo: C:\\Users\\elxy\\Documents\\Codigos\\Python\\P84_85\\LDs\\TodasLDs\\I-LD-3010.2S-5140-741-A2O-001_LOW VOLTAGE SWITCHGEAR & MCC.xlsx\n",
      "Lendo arquivo: C:\\Users\\elxy\\Documents\\Codigos\\Python\\P84_85\\LDs\\TodasLDs\\I-LD-3010.2S-5140-741-A8S-001_MV MCC.xlsx\n",
      "Lendo arquivo: C:\\Users\\elxy\\Documents\\Codigos\\Python\\P84_85\\LDs\\TodasLDs\\I-LD-3010.2S-5140-742-HH4-001_Non hazardous distribuition board.xlsx\n"
     ]
    },
    {
     "name": "stderr",
     "output_type": "stream",
     "text": [
      "c:\\Users\\ELXY\\Documents\\Codigos\\Python\\.venv\\Lib\\site-packages\\openpyxl\\worksheet\\_reader.py:329: UserWarning: Data Validation extension is not supported and will be removed\n",
      "  warn(msg)\n",
      "c:\\Users\\ELXY\\Documents\\Codigos\\Python\\.venv\\Lib\\site-packages\\openpyxl\\worksheet\\_reader.py:329: UserWarning: Data Validation extension is not supported and will be removed\n",
      "  warn(msg)\n"
     ]
    },
    {
     "name": "stdout",
     "output_type": "stream",
     "text": [
      "Lendo arquivo: C:\\Users\\elxy\\Documents\\Codigos\\Python\\P84_85\\LDs\\TodasLDs\\I-LD-3010.2S-5140-742-WE6-101_EXPLOSION-PROOF DISTRIBUTION BOARD.xlsx\n",
      "Lendo arquivo: C:\\Users\\elxy\\Documents\\Codigos\\Python\\P84_85\\LDs\\TodasLDs\\I-LD-3010.2S-5241-940-GK1-001_A_comments.xlsx\n",
      "Lendo arquivo: C:\\Users\\elxy\\Documents\\Codigos\\Python\\P84_85\\LDs\\TodasLDs\\I-LD-3010.2S-5241-940-RKS-001_0_IGG.xlsx\n",
      "Lendo arquivo: C:\\Users\\elxy\\Documents\\Codigos\\Python\\P84_85\\LDs\\TodasLDs\\I-LD-3010.2S-5250-175-JLG-001_0_P001.xlsx\n"
     ]
    },
    {
     "name": "stderr",
     "output_type": "stream",
     "text": [
      "c:\\Users\\ELXY\\Documents\\Codigos\\Python\\.venv\\Lib\\site-packages\\openpyxl\\worksheet\\_reader.py:329: UserWarning: Data Validation extension is not supported and will be removed\n",
      "  warn(msg)\n",
      "c:\\Users\\ELXY\\Documents\\Codigos\\Python\\.venv\\Lib\\site-packages\\openpyxl\\worksheet\\_reader.py:329: UserWarning: Data Validation extension is not supported and will be removed\n",
      "  warn(msg)\n",
      "c:\\Users\\ELXY\\Documents\\Codigos\\Python\\.venv\\Lib\\site-packages\\openpyxl\\worksheet\\_reader.py:329: UserWarning: Data Validation extension is not supported and will be removed\n",
      "  warn(msg)\n"
     ]
    },
    {
     "name": "stdout",
     "output_type": "stream",
     "text": [
      "Lendo arquivo: C:\\Users\\elxy\\Documents\\Codigos\\Python\\P84_85\\LDs\\TodasLDs\\I-LD-3010.2S-5260-700-QIN-500_0_MGPS.xlsx\n",
      "Lendo arquivo: C:\\Users\\elxy\\Documents\\Codigos\\Python\\P84_85\\LDs\\TodasLDs\\I-LD-3010.2S-5260-911-S4P-001_0-Hull aux emerg generator.xlsx\n",
      "Lendo arquivo: C:\\Users\\elxy\\Documents\\Codigos\\Python\\P84_85\\LDs\\TodasLDs\\I-LD-3010.2S-5265-773-GUW-001_UPS.xlsx\n"
     ]
    },
    {
     "name": "stderr",
     "output_type": "stream",
     "text": [
      "c:\\Users\\ELXY\\Documents\\Codigos\\Python\\.venv\\Lib\\site-packages\\openpyxl\\worksheet\\_reader.py:329: UserWarning: Data Validation extension is not supported and will be removed\n",
      "  warn(msg)\n",
      "c:\\Users\\ELXY\\Documents\\Codigos\\Python\\.venv\\Lib\\site-packages\\openpyxl\\worksheet\\_reader.py:329: UserWarning: Data Validation extension is not supported and will be removed\n",
      "  warn(msg)\n"
     ]
    },
    {
     "name": "stdout",
     "output_type": "stream",
     "text": [
      "Lendo arquivo: C:\\Users\\elxy\\Documents\\Codigos\\Python\\P84_85\\LDs\\TodasLDs\\I-LD-3010.2S-5266-940-ND1-001_0_comments.xlsx\n"
     ]
    },
    {
     "name": "stderr",
     "output_type": "stream",
     "text": [
      "c:\\Users\\ELXY\\Documents\\Codigos\\Python\\.venv\\Lib\\site-packages\\openpyxl\\worksheet\\_reader.py:329: UserWarning: Data Validation extension is not supported and will be removed\n",
      "  warn(msg)\n",
      "c:\\Users\\ELXY\\Documents\\Codigos\\Python\\.venv\\Lib\\site-packages\\openpyxl\\worksheet\\_reader.py:329: UserWarning: Data Validation extension is not supported and will be removed\n",
      "  warn(msg)\n"
     ]
    },
    {
     "name": "stdout",
     "output_type": "stream",
     "text": [
      "Lendo arquivo: C:\\Users\\elxy\\Documents\\Codigos\\Python\\P84_85\\LDs\\TodasLDs\\I-LD-3010.2S-5268-626-HC5-001_0_pull in.xlsx\n",
      "Lendo arquivo: C:\\Users\\elxy\\Documents\\Codigos\\Python\\P84_85\\LDs\\TodasLDs\\I-LD-3010.2S-5271-940-HH3-001_TANK CLEANING MACHINE.xlsx\n",
      "Lendo arquivo: C:\\Users\\elxy\\Documents\\Codigos\\Python\\P84_85\\LDs\\TodasLDs\\I-LD-3010.2S-5271-940-HM9-001_butterworth heater.xlsx\n"
     ]
    },
    {
     "name": "stderr",
     "output_type": "stream",
     "text": [
      "c:\\Users\\ELXY\\Documents\\Codigos\\Python\\.venv\\Lib\\site-packages\\openpyxl\\worksheet\\_reader.py:329: UserWarning: Data Validation extension is not supported and will be removed\n",
      "  warn(msg)\n",
      "c:\\Users\\ELXY\\Documents\\Codigos\\Python\\.venv\\Lib\\site-packages\\openpyxl\\worksheet\\_reader.py:329: UserWarning: Data Validation extension is not supported and will be removed\n",
      "  warn(msg)\n",
      "c:\\Users\\ELXY\\Documents\\Codigos\\Python\\.venv\\Lib\\site-packages\\openpyxl\\worksheet\\_reader.py:329: UserWarning: Data Validation extension is not supported and will be removed\n",
      "  warn(msg)\n"
     ]
    },
    {
     "name": "stdout",
     "output_type": "stream",
     "text": [
      "Lendo arquivo: C:\\Users\\elxy\\Documents\\Codigos\\Python\\P84_85\\LDs\\TodasLDs\\I-LD-3010.2S-5300-313-EQ2-101_Rotary pumps.xlsx\n",
      "Lendo arquivo: C:\\Users\\elxy\\Documents\\Codigos\\Python\\P84_85\\LDs\\TodasLDs\\I-LD-3010.2S-5300-940-EQ2-001_D_Rotary pumps.xlsx\n",
      "Lendo arquivo: C:\\Users\\elxy\\Documents\\Codigos\\Python\\P84_85\\LDs\\TodasLDs\\I-LD-3010.2S-5300-940-NB5-001_Pneumatic pumps.xlsx\n"
     ]
    },
    {
     "name": "stderr",
     "output_type": "stream",
     "text": [
      "c:\\Users\\ELXY\\Documents\\Codigos\\Python\\.venv\\Lib\\site-packages\\openpyxl\\worksheet\\_reader.py:329: UserWarning: Data Validation extension is not supported and will be removed\n",
      "  warn(msg)\n",
      "c:\\Users\\ELXY\\Documents\\Codigos\\Python\\.venv\\Lib\\site-packages\\openpyxl\\worksheet\\_reader.py:329: UserWarning: Data Validation extension is not supported and will be removed\n",
      "  warn(msg)\n",
      "c:\\Users\\ELXY\\Documents\\Codigos\\Python\\.venv\\Lib\\site-packages\\openpyxl\\worksheet\\_reader.py:329: UserWarning: Data Validation extension is not supported and will be removed\n",
      "  warn(msg)\n"
     ]
    },
    {
     "name": "stdout",
     "output_type": "stream",
     "text": [
      "Lendo arquivo: C:\\Users\\elxy\\Documents\\Codigos\\Python\\P84_85\\LDs\\TodasLDs\\I-LD-3010.2S-5312-911-HS1-001_0_Sanitary.xlsx\n",
      "Lendo arquivo: C:\\Users\\elxy\\Documents\\Codigos\\Python\\P84_85\\LDs\\TodasLDs\\I-LD-3010.2S-5330-911-HS1-001_0_Separator.xlsx\n",
      "Lendo arquivo: C:\\Users\\elxy\\Documents\\Codigos\\Python\\P84_85\\LDs\\TodasLDs\\I-LD-3010.2S-5331-940-FI4-001_Rev 0 PWT.xlsx\n"
     ]
    },
    {
     "name": "stderr",
     "output_type": "stream",
     "text": [
      "c:\\Users\\ELXY\\Documents\\Codigos\\Python\\.venv\\Lib\\site-packages\\openpyxl\\worksheet\\_reader.py:329: UserWarning: Data Validation extension is not supported and will be removed\n",
      "  warn(msg)\n",
      "c:\\Users\\ELXY\\Documents\\Codigos\\Python\\.venv\\Lib\\site-packages\\openpyxl\\worksheet\\_reader.py:329: UserWarning: Data Validation extension is not supported and will be removed\n",
      "  warn(msg)\n",
      "c:\\Users\\ELXY\\Documents\\Codigos\\Python\\.venv\\Lib\\site-packages\\openpyxl\\worksheet\\_reader.py:329: UserWarning: Data Validation extension is not supported and will be removed\n",
      "  warn(msg)\n"
     ]
    },
    {
     "name": "stdout",
     "output_type": "stream",
     "text": [
      "Lendo arquivo: C:\\Users\\elxy\\Documents\\Codigos\\Python\\P84_85\\LDs\\TodasLDs\\I-LD-3010.2S-5336-900-KYE-001_0_Slop_Treatment_Unit.xlsx\n",
      "Lendo arquivo: C:\\Users\\elxy\\Documents\\Codigos\\Python\\P84_85\\LDs\\TodasLDs\\I-LD-3010.2S-5400-947-LG8-101_LIFE SAVING EQUIPMENT.xlsx\n",
      "Lendo arquivo: C:\\Users\\elxy\\Documents\\Codigos\\Python\\P84_85\\LDs\\TodasLDs\\I-LD-3010.2S-5400-947-VKL-001_INFLATABLE LIFERAFT SYSTEM.xlsx\n",
      "Lendo arquivo: C:\\Users\\elxy\\Documents\\Codigos\\Python\\P84_85\\LDs\\TodasLDs\\I-LD-3010.2S-5412-911-NZA-001_0_comments.xlsx\n",
      "Lendo arquivo: C:\\Users\\elxy\\Documents\\Codigos\\Python\\P84_85\\LDs\\TodasLDs\\I-LD-3010.2S-5420-260-LG8-201_LOOSE FIRE FIGHTING EQIUPMENT.xlsx\n",
      "Lendo arquivo: C:\\Users\\elxy\\Documents\\Codigos\\Python\\P84_85\\LDs\\TodasLDs\\I-LD-3010.2S-5420-260-TY9-201_FIXED FIRE FIGHTING EQUIPMENT.xlsx\n"
     ]
    },
    {
     "name": "stderr",
     "output_type": "stream",
     "text": [
      "c:\\Users\\ELXY\\Documents\\Codigos\\Python\\.venv\\Lib\\site-packages\\openpyxl\\worksheet\\_reader.py:329: UserWarning: Data Validation extension is not supported and will be removed\n",
      "  warn(msg)\n",
      "c:\\Users\\ELXY\\Documents\\Codigos\\Python\\.venv\\Lib\\site-packages\\openpyxl\\worksheet\\_reader.py:329: UserWarning: Data Validation extension is not supported and will be removed\n",
      "  warn(msg)\n",
      "c:\\Users\\ELXY\\Documents\\Codigos\\Python\\.venv\\Lib\\site-packages\\openpyxl\\worksheet\\_reader.py:329: UserWarning: Data Validation extension is not supported and will be removed\n",
      "  warn(msg)\n",
      "c:\\Users\\ELXY\\Documents\\Codigos\\Python\\.venv\\Lib\\site-packages\\openpyxl\\worksheet\\_reader.py:329: UserWarning: Data Validation extension is not supported and will be removed\n",
      "  warn(msg)\n"
     ]
    },
    {
     "name": "stdout",
     "output_type": "stream",
     "text": [
      "Lendo arquivo: C:\\Users\\elxy\\Documents\\Codigos\\Python\\P84_85\\LDs\\TodasLDs\\I-LD-3010.2S-5420-940-FRH-301_Fire water pumps.xlsx\n",
      "Lendo arquivo: C:\\Users\\elxy\\Documents\\Codigos\\Python\\P84_85\\LDs\\TodasLDs\\I-LD-3010.2S-5420-940-RJ3-101_FIRE HOSE BOX.xlsx\n"
     ]
    },
    {
     "name": "stderr",
     "output_type": "stream",
     "text": [
      "c:\\Users\\ELXY\\Documents\\Codigos\\Python\\.venv\\Lib\\site-packages\\openpyxl\\worksheet\\_reader.py:329: UserWarning: Data Validation extension is not supported and will be removed\n",
      "  warn(msg)\n",
      "c:\\Users\\ELXY\\Documents\\Codigos\\Python\\.venv\\Lib\\site-packages\\openpyxl\\worksheet\\_reader.py:329: UserWarning: Data Validation extension is not supported and will be removed\n",
      "  warn(msg)\n"
     ]
    },
    {
     "name": "stdout",
     "output_type": "stream",
     "text": [
      "Lendo arquivo: C:\\Users\\elxy\\Documents\\Codigos\\Python\\P84_85\\LDs\\TodasLDs\\I-LD-3010.2S-5420-940-RJ3-201_EXTERNAL HYDRANT.xlsx\n",
      "Lendo arquivo: C:\\Users\\elxy\\Documents\\Codigos\\Python\\P84_85\\LDs\\TodasLDs\\I-LD-3010.2S-5423-260-TY9-201_DELUGE NOZZLES.xlsx\n"
     ]
    },
    {
     "name": "stderr",
     "output_type": "stream",
     "text": [
      "c:\\Users\\ELXY\\Documents\\Codigos\\Python\\.venv\\Lib\\site-packages\\openpyxl\\worksheet\\_reader.py:329: UserWarning: Data Validation extension is not supported and will be removed\n",
      "  warn(msg)\n",
      "c:\\Users\\ELXY\\Documents\\Codigos\\Python\\.venv\\Lib\\site-packages\\openpyxl\\worksheet\\_reader.py:329: UserWarning: Data Validation extension is not supported and will be removed\n",
      "  warn(msg)\n"
     ]
    },
    {
     "name": "stdout",
     "output_type": "stream",
     "text": [
      "Lendo arquivo: C:\\Users\\elxy\\Documents\\Codigos\\Python\\P84_85\\LDs\\TodasLDs\\I-LD-3010.2S-5423-265-MS1-001_WATER MIST SYSTEM.xlsx\n",
      "Lendo arquivo: C:\\Users\\elxy\\Documents\\Codigos\\Python\\P84_85\\LDs\\TodasLDs\\I-LD-3010.2S-5424-260-TY9-201_Helideck foam.xlsx\n",
      "Lendo arquivo: C:\\Users\\elxy\\Documents\\Codigos\\Python\\P84_85\\LDs\\TodasLDs\\I-LD-3010.2S-5424-940-VTI-001_ FOAM SYSTEM (Z-54245015).xlsx\n"
     ]
    },
    {
     "name": "stderr",
     "output_type": "stream",
     "text": [
      "c:\\Users\\ELXY\\Documents\\Codigos\\Python\\.venv\\Lib\\site-packages\\openpyxl\\worksheet\\_reader.py:329: UserWarning: Data Validation extension is not supported and will be removed\n",
      "  warn(msg)\n",
      "c:\\Users\\ELXY\\Documents\\Codigos\\Python\\.venv\\Lib\\site-packages\\openpyxl\\worksheet\\_reader.py:329: UserWarning: Data Validation extension is not supported and will be removed\n",
      "  warn(msg)\n"
     ]
    },
    {
     "name": "stdout",
     "output_type": "stream",
     "text": [
      "Lendo arquivo: C:\\Users\\elxy\\Documents\\Codigos\\Python\\P84_85\\LDs\\TodasLDs\\I-LD-3010.2S-5425-260-HG4-002_CO2 Snuffing System.xlsx\n",
      "Lendo arquivo: C:\\Users\\elxy\\Documents\\Codigos\\Python\\P84_85\\LDs\\TodasLDs\\I-LD-3010.2S-5425-260-TY9-201_Inergen firefighting system.xlsx\n",
      "Lendo arquivo: C:\\Users\\elxy\\Documents\\Codigos\\Python\\P84_85\\LDs\\TodasLDs\\I-LD-3010.2S-5425-260-TY9-301_WET CHEMICAL SYSTEM.xlsx\n",
      "Lendo arquivo: C:\\Users\\elxy\\Documents\\Codigos\\Python\\P84_85\\LDs\\TodasLDs\\I-LD-3010.2S-5431-911-FI7-101_Rescue boat & davit.xlsx\n",
      "Lendo arquivo: C:\\Users\\elxy\\Documents\\Codigos\\Python\\P84_85\\LDs\\TodasLDs\\I-LD-3010.2S-5431-911-FI7-201_Lifeboat Davit.xlsx\n",
      "Lendo arquivo: C:\\Users\\elxy\\Documents\\Codigos\\Python\\P84_85\\LDs\\TodasLDs\\I-LD-3010.2S-5431-911-FI7-301_Inf. liferaft davit.xlsx\n",
      "Lendo arquivo: C:\\Users\\elxy\\Documents\\Codigos\\Python\\P84_85\\LDs\\TodasLDs\\I-LD-3010.2S-5510-760-ODK-001_TELECOM SYSTEM (VDRL).xlsx\n"
     ]
    },
    {
     "name": "stderr",
     "output_type": "stream",
     "text": [
      "c:\\Users\\ELXY\\Documents\\Codigos\\Python\\.venv\\Lib\\site-packages\\openpyxl\\worksheet\\_reader.py:329: UserWarning: Data Validation extension is not supported and will be removed\n",
      "  warn(msg)\n",
      "c:\\Users\\ELXY\\Documents\\Codigos\\Python\\.venv\\Lib\\site-packages\\openpyxl\\worksheet\\_reader.py:329: UserWarning: Data Validation extension is not supported and will be removed\n",
      "  warn(msg)\n",
      "c:\\Users\\ELXY\\Documents\\Codigos\\Python\\.venv\\Lib\\site-packages\\openpyxl\\worksheet\\_reader.py:329: UserWarning: Data Validation extension is not supported and will be removed\n",
      "  warn(msg)\n",
      "c:\\Users\\ELXY\\Documents\\Codigos\\Python\\.venv\\Lib\\site-packages\\openpyxl\\worksheet\\_reader.py:329: UserWarning: Data Validation extension is not supported and will be removed\n",
      "  warn(msg)\n",
      "c:\\Users\\ELXY\\Documents\\Codigos\\Python\\.venv\\Lib\\site-packages\\openpyxl\\worksheet\\_reader.py:329: UserWarning: Data Validation extension is not supported and will be removed\n",
      "  warn(msg)\n",
      "c:\\Users\\ELXY\\Documents\\Codigos\\Python\\.venv\\Lib\\site-packages\\openpyxl\\worksheet\\_reader.py:329: UserWarning: Data Validation extension is not supported and will be removed\n",
      "  warn(msg)\n"
     ]
    },
    {
     "name": "stdout",
     "output_type": "stream",
     "text": [
      "Lendo arquivo: C:\\Users\\elxy\\Documents\\Codigos\\Python\\P84_85\\LDs\\TodasLDs\\I-LD-3010.2S-5511-76F-A2L-001_HELIDICK LIGHT SYSTEM.xlsx\n",
      "Lendo arquivo: C:\\Users\\elxy\\Documents\\Codigos\\Python\\P84_85\\LDs\\TodasLDs\\I-LD-3010.2S-5511-76F-OD7-001_NAVIGATION AID SYSTEM.xlsx\n",
      "Lendo arquivo: C:\\Users\\elxy\\Documents\\Codigos\\Python\\P84_85\\LDs\\TodasLDs\\I-LD-3010.2S-5520-800-AK1-001_0 - CSS TOPSIDE.xlsx\n"
     ]
    },
    {
     "name": "stderr",
     "output_type": "stream",
     "text": [
      "c:\\Users\\ELXY\\Documents\\Codigos\\Python\\.venv\\Lib\\site-packages\\openpyxl\\worksheet\\_reader.py:329: UserWarning: Data Validation extension is not supported and will be removed\n",
      "  warn(msg)\n",
      "c:\\Users\\ELXY\\Documents\\Codigos\\Python\\.venv\\Lib\\site-packages\\openpyxl\\worksheet\\_reader.py:329: UserWarning: Data Validation extension is not supported and will be removed\n",
      "  warn(msg)\n",
      "c:\\Users\\ELXY\\Documents\\Codigos\\Python\\.venv\\Lib\\site-packages\\openpyxl\\worksheet\\_reader.py:329: UserWarning: Data Validation extension is not supported and will be removed\n",
      "  warn(msg)\n",
      "c:\\Users\\ELXY\\Documents\\Codigos\\Python\\.venv\\Lib\\site-packages\\openpyxl\\worksheet\\_reader.py:329: UserWarning: Data Validation extension is not supported and will be removed\n",
      "  warn(msg)\n"
     ]
    },
    {
     "name": "stdout",
     "output_type": "stream",
     "text": [
      "Lendo arquivo: C:\\Users\\elxy\\Documents\\Codigos\\Python\\P84_85\\LDs\\TodasLDs\\I-LD-3010.2S-5522-855-EQ9-001_ADDRESSABLE FIRE DETECTION SYSTEM.xlsx\n",
      "Lendo arquivo: C:\\Users\\elxy\\Documents\\Codigos\\Python\\P84_85\\LDs\\TodasLDs\\I-LD-3010.2S-5522-855-S4N-001_F&G DETECTOR.xlsx\n",
      "Lendo arquivo: C:\\Users\\elxy\\Documents\\Codigos\\Python\\P84_85\\LDs\\TodasLDs\\I-LD-3010.2S-5525-911-HHG-001_GAS SAMPLING SYSTEM.xlsx\n",
      "Lendo arquivo: C:\\Users\\elxy\\Documents\\Codigos\\Python\\P84_85\\LDs\\TodasLDs\\I-LD-3010.2S-552B-900-S17-001_MMS (Machinery Monitoring System).xlsx\n"
     ]
    },
    {
     "name": "stderr",
     "output_type": "stream",
     "text": [
      "c:\\Users\\ELXY\\Documents\\Codigos\\Python\\.venv\\Lib\\site-packages\\openpyxl\\worksheet\\_reader.py:329: UserWarning: Data Validation extension is not supported and will be removed\n",
      "  warn(msg)\n",
      "c:\\Users\\ELXY\\Documents\\Codigos\\Python\\.venv\\Lib\\site-packages\\openpyxl\\worksheet\\_reader.py:329: UserWarning: Data Validation extension is not supported and will be removed\n",
      "  warn(msg)\n",
      "c:\\Users\\ELXY\\Documents\\Codigos\\Python\\.venv\\Lib\\site-packages\\openpyxl\\worksheet\\_reader.py:329: UserWarning: Data Validation extension is not supported and will be removed\n",
      "  warn(msg)\n"
     ]
    },
    {
     "name": "stdout",
     "output_type": "stream",
     "text": [
      "Lendo arquivo: C:\\Users\\elxy\\Documents\\Codigos\\Python\\P84_85\\LDs\\TodasLDs\\I-LD-3010.2S-6440-940-NH9-001_0_HOSE REELS.xlsx\n",
      "Lendo arquivo: C:\\Users\\elxy\\Documents\\Codigos\\Python\\P84_85\\LDs\\TodasLDs\\I-LD-3010.2S-8220-600-VST-001_WORKSHOP EQUIPMENT.xlsx\n",
      "Lendo arquivo: C:\\Users\\elxy\\Documents\\Codigos\\Python\\P84_85\\LDs\\TodasLDs\\I-LD-3010.2S-8222-91A-S4Q-001_LABORATORY.xlsx\n",
      "Lendo arquivo: C:\\Users\\elxy\\Documents\\Codigos\\Python\\P84_85\\LDs\\TodasLDs\\I-LD-3010.2S-8268-622-G8U-001_Elevator.xlsx\n",
      "Arquivo C:\\Users\\elxy\\Documents\\Codigos\\Python\\P84_85\\LDs\\LD_comment_combined.xlsx salvo em: C:\\Users\\ELXY\\Documents\\Codigos\\Python\\P84_85\\LDs\\LD_comment_combined.xlsx\n",
      "\n",
      "Métricas:\n",
      "Número de arquivos processados: 143\n",
      "Total de Documentos: 15786\n",
      "Documentos com YES: 7883 (49.94%)\n",
      "Documentos com Disciplina: 8371 (53.03%)\n"
     ]
    }
   ],
   "source": [
    "# Caminho base para a pasta contendo os arquivos Excel\n",
    "base_path = 'C:\\\\Users\\\\elxy\\\\Documents\\\\Codigos\\\\Python\\\\P84_85\\\\LDs\\\\TodasLDs\\\\'\n",
    "\n",
    "# Dataframe para armazenar todos os resultados\n",
    "df_LD_final = pd.DataFrame()\n",
    "\n",
    "# Contadores para estatísticas\n",
    "total_documentos = 0\n",
    "documentos_com_comentarios = 0\n",
    "documentos_com_disciplina = 0\n",
    "cont_files = 0\n",
    "\n",
    "# Iterar sobre todos os arquivos Excel na pasta\n",
    "for filename in os.listdir(base_path):\n",
    "    file_path = os.path.join(base_path, filename)\n",
    "    cont_files += 1\n",
    "    print(f\"Lendo arquivo: {file_path}\")\n",
    "    \n",
    "    # Ler o arquivo Excel\n",
    "    df = pd.read_excel(file_path, sheet_name=\"VDRL\")\n",
    "\n",
    "    # Pré-processamento dos dados\n",
    "    df.columns = df.iloc[6]\n",
    "    df = df.iloc[7:]\n",
    "\n",
    "    df.rename(columns = {\"CLIENT DOCUMENT NUMBER\":\"CLIENT_DOCUMENT\",  \n",
    "                            \"DOCUMENT TITLE\":\"DOCUMENT_TITLE\",\n",
    "                            \"Disciplina\":\"Disciplina\",\n",
    "                            \"Comments\":\"Comments\"}, inplace = True)\n",
    "\n",
    "    colunas_para_manter = [\"CLIENT_DOCUMENT\", \"DOCUMENT_TITLE\", \"Disciplina\", \"Comments\"]\n",
    "    df.drop(columns=[col for col in df.columns if col not in colunas_para_manter], inplace = True)\n",
    "    df.reset_index(drop=True, inplace = True)\n",
    "\n",
    "    # df = df.iloc[:, :-2]\n",
    "    # df.info()\n",
    "\n",
    "    # Atualizar estatísticas\n",
    "    total_documentos += len(df)\n",
    "    documentos_com_comentarios += df['Comments'].notna().sum()\n",
    "    documentos_com_disciplina += df['Disciplina'].notna().sum()\n",
    "    \n",
    "    # Concatenar com o DataFrame final\n",
    "    df_LD_final = pd.concat([df_LD_final, df], axis=0, ignore_index=True)\n",
    "\n",
    "# Resetar o índice do DataFrame final\n",
    "df_LD_final.reset_index(drop=True, inplace=True)\n",
    "\n",
    "# Remover espaços em branco e converter para maiúsculas\n",
    "#df_LD_final = df_LD_final.dropna(subset=['DOCUMENT_TITLE'])\n",
    "#df_LD_final['DOCUMENT_TITLE'] = df_LD_final['DOCUMENT_TITLE'].apply(lambda x: x.strip().upper())\n",
    "#df_LD_final['Disciplina'] = df_LD_final['Disciplina'].apply(lambda x: x.strip().upper() if pd.notna(x) else x)\n",
    "#df_LD_final['Comments'] = df_LD_final['Comments'].apply(lambda x: x.strip().upper() if pd.notna(x) else x)\n",
    "\n",
    "# Função para limpar e converter para maiúsculas\n",
    "def clean_text(x):\n",
    "    if isinstance(x, str) and pd.notna(x):\n",
    "        return x.strip().upper()\n",
    "    return x\n",
    "\n",
    "# Aplicar a função nas colunas\n",
    "df_LD_final = df_LD_final.dropna(subset=['DOCUMENT_TITLE'])\n",
    "df_LD_final['DOCUMENT_TITLE'] = df_LD_final['DOCUMENT_TITLE'].apply(clean_text)\n",
    "df_LD_final['Disciplina'] = df_LD_final['Disciplina'].apply(clean_text)\n",
    "df_LD_final['Comments'] = df_LD_final['Comments'].apply(clean_text)\n",
    "\n",
    "# Substituir valores que contém \"YES\" por \"YES\" somente e as que não contém \"YES\" por \"\"\n",
    "# Definindo a função para aplicar na coluna\n",
    "def convert_yes(value):\n",
    "    if isinstance(value, str):\n",
    "        value_upper = value.upper().strip()\n",
    "        if 'YES' in value_upper or value_upper == 'Y' or value_upper == 'X' or value_upper == 'SIM':\n",
    "            return 'YES'\n",
    "    return ''\n",
    "\n",
    "# Criando uma nova coluna 'Comments_new' usando map\n",
    "df_LD_final['Comments_new'] = df_LD_final['Comments'].map(convert_yes)\n",
    "\n",
    "# Atualizar estatísticas\n",
    "total_documentos = len(df_LD_final)\n",
    "documentos_com_comentarios = df_LD_final['Comments_new'].value_counts()['YES']\n",
    "documentos_com_disciplina = df_LD_final['Disciplina'].count()\n",
    "\n",
    "# Calcular estatísticas finais\n",
    "if total_documentos > 0:\n",
    "    porcentagem_com_comentarios = (documentos_com_comentarios / total_documentos) * 100\n",
    "    porcentagem_com_disciplina = (documentos_com_disciplina / total_documentos) * 100\n",
    "else:\n",
    "    porcentagem_com_comentarios = 0\n",
    "    porcentagem_com_disciplina = 0\n",
    "\n",
    "# Criar DataFrame de estatísticas\n",
    "df_estatisticas = pd.DataFrame({\n",
    "    'Métrica': ['Total de Documentos', 'Documentos com YES', 'Documentos com Disciplina',\n",
    "                '% com Comentários', '% com Disciplina'],\n",
    "    'Valor': [total_documentos, documentos_com_comentarios, documentos_com_disciplina,\n",
    "              f\"{porcentagem_com_comentarios:.2f}%\", f\"{porcentagem_com_disciplina:.2f}%\"]\n",
    "})\n",
    "\n",
    "# Salvar o DataFrame final e as estatísticas\n",
    "output_file = 'C:\\\\Users\\\\elxy\\\\Documents\\\\Codigos\\\\Python\\\\P84_85\\\\LDs\\\\LD_comment_combined.xlsx'\n",
    "\n",
    "with pd.ExcelWriter(output_file) as writer:\n",
    "    df_LD_final.to_excel(writer, sheet_name='LD', index=False)\n",
    "    df_estatisticas.to_excel(writer, sheet_name='Estatísticas', index=False)\n",
    "\n",
    "print(f'Arquivo {output_file} salvo em: {Path(output_file).resolve()}')\n",
    "\n",
    "# Imprimir estatísticas no console\n",
    "print(\"\\nMétricas:\")\n",
    "print(f\"Número de arquivos processados: {cont_files}\")\n",
    "print(f\"Total de Documentos: {total_documentos}\")\n",
    "print(f\"Documentos com YES: {documentos_com_comentarios} ({porcentagem_com_comentarios:.2f}%)\")\n",
    "print(f\"Documentos com Disciplina: {documentos_com_disciplina} ({porcentagem_com_disciplina:.2f}%)\")\n"
   ]
  },
  {
   "cell_type": "markdown",
   "metadata": {},
   "source": [
    "### Avalia com quem está a VDA sem comentário"
   ]
  },
  {
   "cell_type": "code",
   "execution_count": 32,
   "metadata": {},
   "outputs": [
    {
     "name": "stdout",
     "output_type": "stream",
     "text": [
      "Número de linhas antes da remoção de duplicatas: 668\n",
      "Número de linhas após a remoção de duplicatas: 665\n",
      "Arquivo atualizado salvo em: C:\\Users\\ELXY\\Documents\\Codigos\\Python\\P84_85\\LDs\\TodasVDAs\\VDA 25.05.23_updated.xlsx\n"
     ]
    }
   ],
   "source": [
    "import pandas as pd\n",
    "import os\n",
    "\n",
    "# Definir os caminhos dos arquivos\n",
    "vda_path = r'C:\\Users\\ELXY\\Documents\\Codigos\\Python\\P84_85\\LDs\\TodasVDAs\\VDA 25.05.23.xlsx'\n",
    "ld_path = r'C:\\Users\\ELXY\\Documents\\Codigos\\Python\\P84_85\\LDs\\LD_comment_combined.xlsx'\n",
    "\n",
    "# Carregar os arquivos Excel\n",
    "vda_df = pd.read_excel(vda_path, sheet_name=\"DADOS\")\n",
    "ld_df = pd.read_excel(ld_path, sheet_name=\"LD\")\n",
    "\n",
    "# Criar as novas colunas no DataFrame VDA\n",
    "vda_df['Disciplina'] = ''\n",
    "vda_df['Comments_new'] = ''\n",
    "\n",
    "# Iterar sobre as linhas do DataFrame VDA\n",
    "for index, row in vda_df.iterrows():\n",
    "    ref_doc = row['REFERENCE DOCUMENT NAME']\n",
    "    \n",
    "    # Procurar o documento correspondente no DataFrame LD\n",
    "    matching_row = ld_df[ld_df['CLIENT_DOCUMENT'] == ref_doc]\n",
    "    \n",
    "    if not matching_row.empty:\n",
    "        # Se encontrou uma correspondência\n",
    "        vda_df.at[index, 'Disciplina'] = matching_row['Disciplina'].values[0]\n",
    "        \n",
    "        if pd.notna(matching_row['Comments_new'].values[0]):\n",
    "            vda_df.at[index, 'Comments_new'] = matching_row['Comments_new'].values[0]\n",
    "        else:\n",
    "            vda_df.at[index, 'Comments_new'] = 'NO'\n",
    "    else:\n",
    "        # Se não encontrou correspondência\n",
    "        vda_df.at[index, 'Comments_new'] = 'Documento não encontrado na LD_comment_combined.xlsx'\n",
    "\n",
    "# Remover linhas duplicadas com base na coluna \"VDA NAME\"\n",
    "if \"VDA NAME\" in vda_df.columns and \"VDA VERSION\" in vda_df.columns:\n",
    "    print(f\"Número de linhas antes da remoção de duplicatas: {len(vda_df)}\")\n",
    "    # Sort by VDA VERSION in descending order and keep first occurrence of each VDA NAME\n",
    "    vda_df = vda_df.sort_values('VDA VERSION', ascending=False).drop_duplicates(subset='VDA NAME', keep='first')\n",
    "    print(f\"Número de linhas após a remoção de duplicatas: {len(vda_df)}\")\n",
    "else:\n",
    "    print(\"Aviso: Colunas necessárias não encontradas. Não foi possível remover duplicatas.\")\n",
    "\n",
    "# Salvar o DataFrame VDA atualizado\n",
    "output_path = os.path.join(os.path.dirname(vda_path), 'VDA 25.05.23_updated.xlsx')\n",
    "vda_df.to_excel(output_path, index=False)\n",
    "\n",
    "print(f\"Arquivo atualizado salvo em: {output_path}\")\n"
   ]
  },
  {
   "cell_type": "markdown",
   "metadata": {},
   "source": [
    "### Avalia a quantidade de cometários solicitados para comentar versus os realizados"
   ]
  },
  {
   "cell_type": "code",
   "execution_count": 33,
   "metadata": {
    "vscode": {
     "languageId": "ruby"
    }
   },
   "outputs": [
    {
     "name": "stdout",
     "output_type": "stream",
     "text": [
      "\n",
      "Estatísticas (apenas para documentos com VDA preenchido):\n",
      "Total de documentos com VDA preenchido: 551\n",
      "Documentos com YES em Comments_new: 481\n",
      "Documentos com COMMENTS ADDED em Status: 371\n"
     ]
    }
   ],
   "source": [
    "import pandas as pd\n",
    "import os\n",
    "from pathlib import Path\n",
    "import warnings\n",
    "\n",
    "warnings.filterwarnings(\"ignore\", category=FutureWarning)\n",
    "\n",
    "# Carregar os arquivos\n",
    "input_file1 = 'C:\\\\Users\\\\elxy\\\\Documents\\\\Codigos\\\\Python\\\\P84_85\\\\LDs\\\\LD_comment_combined.xlsx'\n",
    "df_LD_final = pd.read_excel(input_file1, sheet_name=\"LD\")\n",
    "input_file2 = 'C:\\\\Users\\\\elxy\\\\Documents\\\\Codigos\\\\Python\\\\P84_85\\\\LDs\\\\TodasVDAs\\\\VDA 25.05.23.xlsx'\n",
    "vendor_docs = pd.read_excel(input_file2, sheet_name=\"DADOS\")\n",
    "\n",
    "# Adicionar novas colunas ao df_LD_final\n",
    "df_LD_final['VDA'] = ''\n",
    "df_LD_final['Version'] = ''\n",
    "df_LD_final['Status'] = ''\n",
    "df_LD_final['Workflow Status'] = ''\n",
    "\n",
    "# Atualizar df_LD_final com informações do vendor_docs\n",
    "for index, row in df_LD_final.iterrows():\n",
    "    matching_row = vendor_docs[vendor_docs['REFERENCE DOCUMENT NAME'] == row['CLIENT_DOCUMENT']]\n",
    "    if not matching_row.empty:\n",
    "        df_LD_final.at[index, 'VDA'] = matching_row['VDA NAME'].values[0]\n",
    "        df_LD_final.at[index, 'Version'] = matching_row['VDA VERSION'].values[0]\n",
    "        df_LD_final.at[index, 'Status'] = matching_row['VDA RELEASE STATUS / VOTE'].values[0]\n",
    "        df_LD_final.at[index, 'Workflow Status'] = matching_row['VDA WORKFLOW STATUS'].values[0]\n",
    "\n",
    "# Filtrar apenas os documentos com VDA preenchido\n",
    "df_LD_final_with_vda = df_LD_final[df_LD_final['VDA'].notna() & (df_LD_final['VDA'] != '')]\n",
    "\n",
    "# Calcular estatísticas apenas para documentos com VDA preenchido\n",
    "comments_yes = len(df_LD_final_with_vda[df_LD_final_with_vda['Comments_new'] == 'YES'])\n",
    "comments_added = len(df_LD_final_with_vda[df_LD_final_with_vda['Status'] == 'COMMENTS ADDED'])\n",
    "total_docs_with_vda = len(df_LD_final_with_vda)\n",
    "\n",
    "# Criar DataFrame de estatísticas\n",
    "stats_df = pd.DataFrame({\n",
    "    'Métrica': ['Total de documentos com VDA preenchido',\n",
    "                'Documentos com YES em Comments_new',\n",
    "                'Documentos com COMMENTS ADDED em Status'],\n",
    "    'Quantidade': [total_docs_with_vda, comments_yes, comments_added]\n",
    "})\n",
    "\n",
    "# Salvar resultados\n",
    "with pd.ExcelWriter('C:\\\\Users\\\\elxy\\\\Documents\\\\Codigos\\\\Python\\\\P84_85\\\\LDs\\\\LD_comment_combined.xlsx') as writer:\n",
    "    df_LD_final.to_excel(writer, sheet_name='LD', index=False)\n",
    "    stats_df.to_excel(writer, sheet_name='Estatísticas Comentários', index=False)\n",
    "\n",
    "print(f\"\\nEstatísticas (apenas para documentos com VDA preenchido):\")\n",
    "print(f\"Total de documentos com VDA preenchido: {total_docs_with_vda}\")\n",
    "print(f\"Documentos com YES em Comments_new: {comments_yes}\")\n",
    "print(f\"Documentos com COMMENTS ADDED em Status: {comments_added}\")\n"
   ]
  },
  {
   "cell_type": "markdown",
   "metadata": {},
   "source": [
    "### Avalia dos documentos emitidos com VDA quais foram solicitados para comentar\n",
    "- inverso da lógica anterior"
   ]
  },
  {
   "cell_type": "code",
   "execution_count": 34,
   "metadata": {
    "vscode": {
     "languageId": "ruby"
    }
   },
   "outputs": [
    {
     "name": "stdout",
     "output_type": "stream",
     "text": [
      "\n",
      "Arquivo Salvo em C:\\Users\\elxy\\Documents\\Codigos\\Python\\P84_85\\LDs\\TodasVDAs\\Vendor docs 25.05.23_updated.xlsx\n",
      "\n",
      "Estatísticas:\n",
      "Total de documentos: 668\n",
      "Documentos com YES em Comments_new: 460\n",
      "Documentos com COMMENTS ADDED em Status: 463\n"
     ]
    }
   ],
   "source": [
    "\n",
    "import pandas as pd\n",
    "import os\n",
    "from pathlib import Path\n",
    "import warnings\n",
    "\n",
    "warnings.filterwarnings(\"ignore\", category=FutureWarning)\n",
    "\n",
    "# Carregar os arquivos\n",
    "input_file1 = 'C:\\\\Users\\\\elxy\\\\Documents\\\\Codigos\\\\Python\\\\P84_85\\\\LDs\\\\LD_comment_combined.xlsx'\n",
    "df_LD_final = pd.read_excel(input_file1, sheet_name=\"LD\")\n",
    "\n",
    "input_file2 = 'C:\\\\Users\\\\elxy\\\\Documents\\\\Codigos\\\\Python\\\\P84_85\\\\LDs\\\\TodasVDAs\\\\VDA 25.05.23.xlsx'\n",
    "vendor_docs = pd.read_excel(input_file2, sheet_name=\"DADOS\")\n",
    "\n",
    "output_file = 'C:\\\\Users\\\\elxy\\\\Documents\\\\Codigos\\\\Python\\\\P84_85\\\\LDs\\\\TodasVDAs\\\\Vendor docs 25.05.23_updated.xlsx'\n",
    "\n",
    "# Atualizar vendor_docs com informações do df_LD_final\n",
    "for index, row in vendor_docs.iterrows():\n",
    "    matching_row = df_LD_final[df_LD_final['CLIENT_DOCUMENT'] == row['REFERENCE DOCUMENT NAME']]\n",
    "    if not matching_row.empty:\n",
    "        vendor_docs.at[index, 'Disciplina'] = matching_row['Disciplina'].values[0]\n",
    "        vendor_docs.at[index, 'Comments'] = matching_row['Comments'].values[0]\n",
    "        vendor_docs.at[index, 'Comments_new'] = matching_row['Comments_new'].values[0]\n",
    "\n",
    "# Calcular estatísticas\n",
    "comments_yes = len(vendor_docs[vendor_docs['Comments_new'] == 'YES'])\n",
    "comments_added = len(vendor_docs[vendor_docs['REFERENCE DOCUMENT RELEASE STATUS / VOTE'] == 'COMMENTS ADDED'])\n",
    "total_docs = len(vendor_docs)\n",
    "\n",
    "# Criar DataFrame de estatísticas\n",
    "stats_df = pd.DataFrame({\n",
    "    'Métrica': ['Total de documentos',\n",
    "                'Documentos com YES em Comments_new',\n",
    "                'Documentos com COMMENTS ADDED em Status'],\n",
    "    'Quantidade': [total_docs, comments_yes, comments_added]\n",
    "})\n",
    "\n",
    "# Salvar resultados\n",
    "print(f\"\\nArquivo Salvo em {output_file}\")\n",
    "with pd.ExcelWriter(output_file) as writer:\n",
    "    vendor_docs.to_excel(writer, sheet_name='Sheet1', index=False)\n",
    "    stats_df.to_excel(writer, sheet_name='Estatísticas Comentários', index=False)\n",
    "\n",
    "print(f\"\\nEstatísticas:\")\n",
    "print(f\"Total de documentos: {total_docs}\")\n",
    "print(f\"Documentos com YES em Comments_new: {comments_yes}\")\n",
    "print(f\"Documentos com COMMENTS ADDED em Status: {comments_added}\")\n"
   ]
  }
 ],
 "metadata": {
  "kernelspec": {
   "display_name": ".venv",
   "language": "python",
   "name": "python3"
  },
  "language_info": {
   "codemirror_mode": {
    "name": "ipython",
    "version": 3
   },
   "file_extension": ".py",
   "mimetype": "text/x-python",
   "name": "python",
   "nbconvert_exporter": "python",
   "pygments_lexer": "ipython3",
   "version": "3.12.7"
  }
 },
 "nbformat": 4,
 "nbformat_minor": 2
}
