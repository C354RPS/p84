{
 "cells": [
  {
   "cell_type": "markdown",
   "metadata": {},
   "source": [
    "## Have a Comments - Lista de Documentos:"
   ]
  },
  {
   "cell_type": "markdown",
   "metadata": {},
   "source": [
    "### Carregar LD e Report do Integra com as informações a serem avaliadas:"
   ]
  },
  {
   "cell_type": "code",
   "execution_count": 6,
   "metadata": {},
   "outputs": [
    {
     "name": "stderr",
     "output_type": "stream",
     "text": [
      "c:\\Users\\ELXY\\Documents\\Codigos\\Python\\.venv\\Lib\\site-packages\\openpyxl\\worksheet\\_reader.py:329: UserWarning: Data Validation extension is not supported and will be removed\n",
      "  warn(msg)\n",
      "c:\\Users\\ELXY\\Documents\\Codigos\\Python\\.venv\\Lib\\site-packages\\openpyxl\\worksheet\\_reader.py:329: UserWarning: Data Validation extension is not supported and will be removed\n",
      "  warn(msg)\n"
     ]
    }
   ],
   "source": [
    "import pandas as pd\n",
    "import numpy as np\n",
    "from pathlib import Path\n",
    "\n",
    "# pd.set_option('mode.chained_assignment', None)\n",
    "# Nome dos arquivos para carregar no Pandas\n",
    "\n",
    "ld_file = 'C:\\\\Users\\\\elxy\\\\Documents\\\\Codigos\\\\Python\\\\P84_85\\\\LDs\\\\LD_5121_D5A_ultima_rev.xlsx'\n",
    "ld_file_comments = 'C:\\\\Users\\\\elxy\\\\Documents\\\\Codigos\\\\Python\\\\P84_85\\\\LDs\\\\LD_5121_D5A_comments.xlsx'\n",
    "integra_report = 'C:\\\\Users\\\\elxy\\\\Documents\\\\Codigos\\\\Python\\\\P84_85\\\\RE-General Query - Technical Engineering Documents-0000000122.xlsx'\n",
    "\n",
    "df_LD = pd.read_excel(ld_file, sheet_name=\"VDRL\")\n",
    "df_LD_comments = pd.read_excel(ld_file_comments, sheet_name=\"VDRL\")\n",
    "df_integra = pd.read_excel(integra_report, sheet_name=\"DADOS\")\n"
   ]
  },
  {
   "cell_type": "markdown",
   "metadata": {},
   "source": [
    "#### Pre-processamento dos dados "
   ]
  },
  {
   "cell_type": "code",
   "execution_count": 7,
   "metadata": {},
   "outputs": [],
   "source": [
    "df_LD.columns = df_LD.iloc[6]\n",
    "df_LD = df_LD.iloc[7:]\n",
    "\n",
    "df_LD_comments.columns = df_LD_comments.iloc[6]\n",
    "df_LD_comments = df_LD_comments.iloc[7:]\n",
    "\n",
    "df_LD.rename(columns = {\"CLIENT DOCUMENT NUMBER\":\"CLIENT_DOCUMENT\", \n",
    "                        \"VENDOR DOCUMENT NUMBER\":\"VENDOR_DOCUMENT\", \n",
    "                        \"DOCUMENT TITLE\": \"DOCUMENT_TITLE\", \"PLANNED DATE\": \"PLANNED_DATE\"}, inplace = True)\n",
    "df_LD_comments.rename(columns = {\"Have comment?\":\"Have_comment\", \"CLIENT DOCUMENT NUMBER\":\"CLIENT_DOCUMENT\", \n",
    "                        \"VENDOR DOCUMENT NUMBER\":\"VENDOR_DOCUMENT\", \n",
    "                        \"DOCUMENT TITLE\": \"DOCUMENT_TITLE\", \"PLANNED DATE\": \"PLANNED_DATE\"}, inplace = True)\n",
    "df_LD = df_LD.dropna(subset=['DOCUMENT_TITLE'])\n",
    "df_LD_comments = df_LD_comments.dropna(subset=['DOCUMENT_TITLE'])\n",
    "\n",
    "df_integra.rename(columns = {\"CREATION DATE\":\"CREATION_DATE\"}, inplace = True)\n",
    "\n",
    "colunas_para_manter = [\"CLIENT_DOCUMENT\", \"VENDOR_DOCUMENT\", \"DOCUMENT_TITLE\", \"ORIGINATOR \", \"PLANNED_DATE\"]  # Lista de colunas para  manter\n",
    "df_LD.drop(columns=[col for col in df_LD.columns if col not in colunas_para_manter], inplace = True)\n",
    "df_LD.reset_index(drop=True, inplace = True)\n",
    "\n",
    "colunas_para_manter_VDA = [\"Have_comment\", \"Discipline\", \"CLIENT_DOCUMENT\", \"VENDOR_DOCUMENT\", \"DOCUMENT_TITLE\", \"ORIGINATOR \", \"PLANNED_DATE\"]  # Lista de colunas para  manter\n",
    "df_LD_comments.drop(columns=[col for col in df_LD_comments.columns if col not in colunas_para_manter_VDA], inplace = True)\n",
    "df_LD_comments.reset_index(drop=True, inplace = True)\n",
    "\n",
    "# Remover as duas últimas colunas \n",
    "df_LD = df_LD.iloc[:, :-2]\n",
    "df_LD_comments = df_LD_comments.iloc[:, :-2]\n",
    "\n"
   ]
  },
  {
   "cell_type": "markdown",
   "metadata": {},
   "source": [
    "### Itera o df_integra e o df_LD_comments inclui novas colunas no dataframe df_LD. Compara o df_LD_comments com o df_LD para buscar informação perdida de Have_a_comment e Discipline."
   ]
  },
  {
   "cell_type": "code",
   "execution_count": 8,
   "metadata": {},
   "outputs": [],
   "source": [
    "for row in df_integra.itertuples():\n",
    "    codigo = row.CODE\n",
    "    descricao = row.TITLE\n",
    "    dt_criacao = row.CREATION_DATE\n",
    "    \n",
    "    # usando a função .loc para atualizar os valores\n",
    "    # df_escopo.loc[(df_escopo['PKG_DESCRIPTION'] == pkg_description) & (df_escopo['item_tag'] == item_tag) , \"PO_Number\"] = pkg_engineer\n",
    "    df_LD.loc[(df_LD['CLIENT_DOCUMENT'] == codigo), \"CODE\"] = codigo\n",
    "    df_LD.loc[(df_LD['CLIENT_DOCUMENT'] == codigo), \"TITLE\"] = descricao\n",
    "    df_LD.loc[(df_LD['CLIENT_DOCUMENT'] == codigo), \"CREATION_DATE\"] = dt_criacao\n",
    "\n",
    "for row in df_LD_comments.itertuples():\n",
    "    have_comment = row.Have_comment\n",
    "    discipline = row.Discipline\n",
    "    codigo = row.CLIENT_DOCUMENT\n",
    "    descricao = row.DOCUMENT_TITLE\n",
    "\n",
    "    # avalia se tem o mesmo código de documento:\n",
    "    df_LD.loc[(df_LD['CLIENT_DOCUMENT'] == codigo), \"CLIENT_DOCUMENT_VDA_cod\"] = codigo\n",
    "    df_LD.loc[(df_LD['CLIENT_DOCUMENT'] == codigo), \"DOCUMENT_TITLE_VDA_cod\"] = descricao\n",
    "    df_LD.loc[(df_LD['CLIENT_DOCUMENT'] == codigo), \"Have_comment_cod\"] = have_comment\n",
    "    df_LD.loc[(df_LD['CLIENT_DOCUMENT'] == codigo), \"Discipline_cod\"] = discipline\n",
    "\n",
    "    df_LD.loc[(df_LD['DOCUMENT_TITLE'] == descricao), \"CLIENT_DOCUMENT_VDA_desc\"] = codigo\n",
    "    df_LD.loc[(df_LD['DOCUMENT_TITLE'] == descricao), \"DOCUMENT_TITLE_VDA_desc\"] = descricao\n",
    "    df_LD.loc[(df_LD['DOCUMENT_TITLE'] == descricao), \"Have_comment_desc\"] = have_comment\n",
    "    df_LD.loc[(df_LD['DOCUMENT_TITLE'] == descricao), \"Discipline_desc\"] = discipline\n",
    "\n",
    "# display(df_LD)"
   ]
  },
  {
   "cell_type": "markdown",
   "metadata": {},
   "source": [
    "### Consolida o Have_a_comment e Discipline numa unica coluna."
   ]
  },
  {
   "cell_type": "code",
   "execution_count": 9,
   "metadata": {},
   "outputs": [],
   "source": [
    "# Cria e consolida a coluna 'Have_a_comment' a partir de uma das duas colunas \"Have_a_comment_cod\" ou \"Have_a_comment_desc\"\n",
    "df_LD['Have_comment'] = np.where(df_LD['Have_comment_cod'].notnull(),\n",
    "                                 df_LD['Have_comment_cod'],\n",
    "                                 df_LD['Have_comment_desc'])\n",
    "\n",
    "# Cria e consolida a coluna 'Discipline' a partir de uma das duas colunas \"Discipline_cod\" ou \"Discipline_desc\"\n",
    "df_LD['Discipline'] = np.where(df_LD['Discipline_cod'].notnull(),\n",
    "                                 df_LD['Discipline_cod'],\n",
    "                                 df_LD['Discipline_desc'])\n",
    "\n"
   ]
  },
  {
   "cell_type": "markdown",
   "metadata": {},
   "source": [
    "### Salva DataFrame num arquivo excel"
   ]
  },
  {
   "cell_type": "code",
   "execution_count": 11,
   "metadata": {},
   "outputs": [
    {
     "name": "stdout",
     "output_type": "stream",
     "text": [
      "Arquivo C:\\Users\\elxy\\Documents\\Codigos\\Python\\P84_85\\LDs\\LD_5121_D5A_have_a_comment.xlsx salvo em:  c:\\Users\\ELXY\\Documents\\Codigos\\Python\\P84_85\\LDs\n"
     ]
    }
   ],
   "source": [
    "avanco_ld_cesar = 'C:\\\\Users\\\\elxy\\\\Documents\\\\Codigos\\\\Python\\\\P84_85\\\\LDs\\\\LD_5121_D5A_have_a_comment.xlsx'\n",
    "\n",
    "with pd.ExcelWriter(avanco_ld_cesar) as writer:\n",
    "    df_LD.to_excel(writer, sheet_name='LD', index=False)\n",
    "print(f'Arquivo {avanco_ld_cesar} salvo em: ', Path.cwd())"
   ]
  }
 ],
 "metadata": {
  "kernelspec": {
   "display_name": ".venv",
   "language": "python",
   "name": "python3"
  },
  "language_info": {
   "codemirror_mode": {
    "name": "ipython",
    "version": 3
   },
   "file_extension": ".py",
   "mimetype": "text/x-python",
   "name": "python",
   "nbconvert_exporter": "python",
   "pygments_lexer": "ipython3",
   "version": "3.12.7"
  }
 },
 "nbformat": 4,
 "nbformat_minor": 4
}
