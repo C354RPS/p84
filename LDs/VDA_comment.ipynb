{
 "cells": [
  {
   "cell_type": "markdown",
   "metadata": {},
   "source": [
    "## To Do List - Have Comments:"
   ]
  },
  {
   "cell_type": "markdown",
   "metadata": {},
   "source": [
    "### Importa Bibliotecas"
   ]
  },
  {
   "cell_type": "code",
   "execution_count": 1,
   "metadata": {},
   "outputs": [],
   "source": [
    "import pandas as pd\n",
    "import re\n",
    "import numpy as np\n",
    "from pathlib import Path\n",
    "import glob\n",
    "import warnings\n",
    "from datetime import datetime\n",
    "\n",
    "warnings.filterwarnings(\"ignore\", category=FutureWarning)\n",
    "warnings.filterwarnings(\"ignore\", category=UserWarning, module=\"openpyxl.worksheet._reader\")"
   ]
  },
  {
   "cell_type": "markdown",
   "metadata": {},
   "source": [
    "### Carrega Dados Básicos"
   ]
  },
  {
   "cell_type": "code",
   "execution_count": 2,
   "metadata": {},
   "outputs": [],
   "source": [
    "# Set the correct path to the Excel file\n",
    "dados_basicos_filename = 'C:/Users/ELXY/Documents/Codigos/Python/P84_85/DadosBasicos/dados_basicos.xlsx'\n",
    "\n",
    "# Read the Excel file\n",
    "df_db = pd.read_excel(dados_basicos_filename, sheet_name=0)  # sheet_name=0 reads the first sheet\n",
    "df_db = df_db.fillna('')\n",
    "# display(df_db)"
   ]
  },
  {
   "cell_type": "markdown",
   "metadata": {},
   "source": [
    "### Carrega todas as VDAs e todas as LDs\n",
    "- Carrega as VDAs\n",
    "- Carrega todas as LDs\n",
    "- Associa aos campos de comentários das LDs comentadas "
   ]
  },
  {
   "cell_type": "code",
   "execution_count": 3,
   "metadata": {},
   "outputs": [],
   "source": [
    "vda_file = r'C:\\Users\\elxy\\Documents\\Codigos\\Python\\P84_85\\LDs\\VDA\\\\All_VDA.xlsx'\n",
    "ld_file = r'C:\\Users\\ELXY\\Documents\\Codigos\\Python\\P84_85\\LDs\\LD_comment_combined.xlsx'\n",
    "\n",
    "# Leitura dos arquivos \n",
    "df_vda = pd.read_excel(vda_file)\n",
    "df_LD =  pd.read_excel(ld_file)\n",
    "\n",
    "# Filtrar somente as últimas revisões de cada documento conforme coluna 'VDA VERSION'\n",
    "def filtrar_ultimas_revisoes(df_vda):\n",
    "    \"\"\"\n",
    "    Filtra o DataFrame para manter apenas as últimas revisões de cada documento.\n",
    "\n",
    "    Parâmetros:\n",
    "        df_vda (DataFrame): DataFrame contendo os dados do VDA.\n",
    "\n",
    "    Retorna:\n",
    "        DataFrame: DataFrame filtrado com as últimas revisões.\n",
    "    \"\"\"\n",
    "    # Converte a coluna 'VDA VERSION' para string\n",
    "    df_vda['Version'] = df_vda['Version'].astype(str)\n",
    "\n",
    "    # Agrupa por 'Reference Document' e pega a última versão\n",
    "    df_vda = df_vda.sort_values(by='Version').drop_duplicates(subset='Reference Document', keep='last')\n",
    "\n",
    "    return df_vda\n",
    "df_vda = filtrar_ultimas_revisoes(df_vda)\n",
    "\n",
    "# Inclui no df_vda as seguintes informações do df_LD 'Discipline', 'Comments_new', 'PACKAGE' e 'Origem'. Os compos chaves de relacionamento são 'Reference Document' e 'CLIENT_DOCUMENT' dos dataframes df_vda e df_LD_final, respectivamente.\n",
    "def incluir_informacoes(df_vda, df_LD):\n",
    "    \"\"\"\n",
    "    Inclui informações do df_LD no df_vda com base na correspondência de 'Reference Document' e 'CLIENT_DOCUMENT'.\n",
    "    \n",
    "    Parâmetros:\n",
    "        df_vda (DataFrame): DataFrame contendo os dados do VDA.\n",
    "        df_LD (DataFrame): DataFrame contendo os dados dos comentários LD.\n",
    "    \n",
    "    Retorna:\n",
    "        DataFrame: DataFrame atualizado com as novas colunas.\n",
    "    \"\"\"\n",
    "    # Renomeia a coluna CLIENT_DOCUMENT para Reference Document para facilitar o merge\n",
    "    df_LD = df_LD.rename(columns={'CLIENT_DOCUMENT': 'Reference Document'})\n",
    "    \n",
    "    # Realiza o merge\n",
    "    df_vda = pd.merge(df_vda, df_LD[['Reference Document', 'Discipline', 'Comments_new', 'PACKAGE', 'Origem']],\n",
    "                      on='Reference Document', how='left')\n",
    "    \n",
    "    return df_vda\n",
    "df_vda = incluir_informacoes(df_vda, df_LD)\n",
    "df_vda = df_vda.drop_duplicates(subset='Code', keep='last')"
   ]
  },
  {
   "cell_type": "markdown",
   "metadata": {},
   "source": [
    "#### Criar um dataframe com somente os meus pacotes com base no df_db"
   ]
  },
  {
   "cell_type": "code",
   "execution_count": 4,
   "metadata": {},
   "outputs": [],
   "source": [
    "# Com base no df_db filtrar somente os pacotes que estão no df_db coluna 'PKG_DESCRIPTION'\n",
    "def filtrar_pacotes(df_vda, df_db):\n",
    "    \"\"\"\n",
    "    Filtra o DataFrame df_vda para incluir apenas os pacotes que estão na coluna 'PKG_DESCRIPTION' do df_db.\n",
    "\n",
    "    Parâmetros:\n",
    "        df_vda (DataFrame): DataFrame contendo os dados do VDA.\n",
    "        df_db (DataFrame): DataFrame contendo os pacotes a serem filtrados.\n",
    "\n",
    "    Retorna:\n",
    "        DataFrame: DataFrame filtrado com base nos pacotes do df_db.\n",
    "    \"\"\"\n",
    "    pacotes = df_db['PKG_DESCRIPTION'].unique()\n",
    "    return df_vda[df_vda['PACKAGE'].isin(pacotes)]\n",
    "df_vda_meus_pacotes = filtrar_pacotes(df_vda, df_db)\n",
    "# df_vda_meus_pacotes.info()\n"
   ]
  },
  {
   "cell_type": "markdown",
   "metadata": {},
   "source": [
    "#### Carrega a ToDo List e associa ao dataframe df_vda_meus_pacotes"
   ]
  },
  {
   "cell_type": "code",
   "execution_count": 5,
   "metadata": {},
   "outputs": [],
   "source": [
    "# Caminhos dos arquivos \n",
    "todo_list_file = 'C:\\\\Users\\\\elxy\\\\Documents\\\\Codigos\\\\Python\\\\P84_85\\\\LDs\\\\To Do List.xlsx'\n",
    "# Leitura dos arquivos \n",
    "df_todo = pd.read_excel(todo_list_file)\n",
    "\n",
    "# Relacionar os dataframes df_todo com base no campo 'Related Object' do df_todo e 'Code' do df_vda_meus_pacotes\n",
    "def relacionar_todo_vda(df_todo, df_vda):\n",
    "    \"\"\"\n",
    "    Relaciona o DataFrame df_todo com df_vda_meus_pacotes com base no campo 'Related Object' do df_todo\n",
    "    e 'Code' do df_vda_meus_pacotes.\n",
    "\n",
    "    Parâmetros:\n",
    "        df_todo (DataFrame): DataFrame contendo a lista de tarefas.\n",
    "        df_vda (DataFrame): DataFrame contendo os dados do VDA filtrados.\n",
    "\n",
    "    Retorna:\n",
    "        DataFrame: DataFrame atualizado com as novas colunas.\n",
    "    \"\"\"\n",
    "    # Renomeia a coluna 'Related Object' para 'Code' para facilitar o merge\n",
    "    df_todo = df_todo.rename(columns={'Related Object': 'Code'})\n",
    "\n",
    "    # Realiza o merge\n",
    "    df_todo = pd.merge(df_todo, df_vda[['Code', 'Reference Document', 'Title', 'Discipline', 'Comments_new', 'PACKAGE', 'Origem']],\n",
    "                       on='Code', how='left')\n",
    "\n",
    "    return df_todo\n",
    "df_todo = relacionar_todo_vda(df_todo, df_vda_meus_pacotes)\n"
   ]
  },
  {
   "cell_type": "markdown",
   "metadata": {},
   "source": [
    "#### Cria a coluna 'Additional Info' para colar no ToDo list do Integra"
   ]
  },
  {
   "cell_type": "code",
   "execution_count": 6,
   "metadata": {},
   "outputs": [
    {
     "name": "stdout",
     "output_type": "stream",
     "text": [
      "Arquivo To Do List com comentários salvo em: C:\\Users\\elxy\\Documents\\Codigos\\Python\\P84_85\\LDs\\To Do List_Comments.xlsx\n"
     ]
    }
   ],
   "source": [
    "# Criar ou atualizar a coluna 'Additional Info' com as informações das colunas 'Code', 'Reference Document', 'Title', 'Discipline', 'Comments_new' do df_todo. Com a seguinte lógica:\n",
    "# Se a coluna 'Additional Info' já existir, ela deve ser atualizada com as novas informações. Se não existir, ela deve ser criada.\n",
    "# Se o valor da coluna 'Comments_new' for igual a 'YES', a coluna 'Additional Info' deve ser preenchida com as seguinte formatação como exemplo: \"VDA: VDA-P84-AP5-00049 DOCUMENT: I-MC-3010.2S-5121-940-D5A-006 UE-5121501 - SEA WATER ELECTROCHLORINATION UNIT - HYDRAULIC CALCULATIONS, Comment: YES, Discipline: Process  , Date: 25-June-2025\".\n",
    "# Se o valor da coluna 'Comments_new' não tiver informação ou NaN, a coluna 'Additional Info' deve ser preenchida com as seguinte formatação como exemplo: \"VDA: VDA-P84-AP5-00049 DOCUMENT: I-DE-3010.2S-1231-296-AP5-065 NOZZLES AND SADDLE DETAIL DRAWING FOR GAS PIPELINE PIG LAUNCHER / RECEIVER (LR-1231001), Comment: NO, Date: 25-June-2025\".\n",
    "# Se o valor da coluna 'Task Name' != 'VDA have a Comments', a coluna 'Additional Info' deve ser preenchida com as seguinte formatação como exemplo: 'NÃO É HAVE A COMMENT'\n",
    "def atualizar_additional_info(df_todo):\n",
    "    \"\"\"\n",
    "    Atualiza ou cria a coluna 'Additional Info' no DataFrame df_todo com base nas regras especificadas.\n",
    "\n",
    "    Parâmetros:\n",
    "        df_todo (DataFrame): DataFrame contendo a lista de tarefas.\n",
    "\n",
    "    Retorna:\n",
    "        DataFrame: DataFrame atualizado com a coluna 'Additional Info'.\n",
    "    \"\"\"\n",
    "    def format_additional_info(row):\n",
    "        if row['Comments_new'] == 'YES':\n",
    "            return f\"{row['Code']} DOCUMENT: {row['Reference Document']} - {row['Title']}, Comment: YES, Discipline: {row['Discipline']}, Date: {datetime.now().strftime('%d-%B-%Y')}\"\n",
    "        elif pd.isna(row['Comments_new']) or row['Comments_new'] == '':\n",
    "            return f\"{row['Code']} DOCUMENT: {row['Reference Document']} - {row['Title']}, Comment: NO, Date: {datetime.now().strftime('%d-%B-%Y')}\"\n",
    "        elif row['Task Name'] != 'VDA have a Comments':\n",
    "            return 'NÃO É HAVE A COMMENT'\n",
    "        else:\n",
    "            return ''\n",
    "\n",
    "    df_todo['Additional Info'] = df_todo.apply(format_additional_info, axis=1)\n",
    "    return df_todo\n",
    "df_todo = atualizar_additional_info(df_todo)\n",
    "\n",
    "# Salvar o arquivo atualizado\n",
    "todo_list_output = 'C:\\\\Users\\\\elxy\\\\Documents\\\\Codigos\\\\Python\\\\P84_85\\\\LDs\\\\To Do List_Comments.xlsx'\n",
    "df_todo.to_excel(todo_list_output, index=False, engine='openpyxl')\n",
    "\n",
    "print(f'Arquivo To Do List com comentários salvo em: {todo_list_output}')"
   ]
  }
 ],
 "metadata": {
  "kernelspec": {
   "display_name": ".venv",
   "language": "python",
   "name": "python3"
  },
  "language_info": {
   "codemirror_mode": {
    "name": "ipython",
    "version": 3
   },
   "file_extension": ".py",
   "mimetype": "text/x-python",
   "name": "python",
   "nbconvert_exporter": "python",
   "pygments_lexer": "ipython3",
   "version": "3.12.7"
  }
 },
 "nbformat": 4,
 "nbformat_minor": 4
}
