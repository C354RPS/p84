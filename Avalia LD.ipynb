{
 "cells": [
  {
   "cell_type": "markdown",
   "metadata": {},
   "source": [
    "## Analisa Lista de Documentos:"
   ]
  },
  {
   "cell_type": "markdown",
   "metadata": {},
   "source": [
    "### Carregar LD e Anexo D com as informações a serem avaliadas:"
   ]
  },
  {
   "cell_type": "code",
   "execution_count": 65,
   "metadata": {},
   "outputs": [
    {
     "name": "stderr",
     "output_type": "stream",
     "text": [
      "c:\\Program Files\\Python311\\Lib\\site-packages\\openpyxl\\worksheet\\_reader.py:329: UserWarning: Data Validation extension is not supported and will be removed\n",
      "  warn(msg)\n"
     ]
    }
   ],
   "source": [
    "import pandas as pd\n",
    "from pathlib import Path\n",
    "\n",
    "# pd.set_option('mode.chained_assignment', None)\n",
    "# Nome dos arquivos para carregar no Pandas\n",
    "\n",
    "ld_file = 'C:\\\\Users\\\\elxy\\\\Documents\\\\Python\\\\P84\\\\LD.xlsx'\n",
    "anexoD_file = 'C:\\\\Users\\\\elxy\\\\Documents\\\\Python\\\\P84\\\\AnexoD.xlsx'\n",
    "\n",
    "df_LD = pd.read_excel(ld_file, sheet_name=\"VDRL\")\n",
    "df_anexoD = pd.read_excel(anexoD_file, sheet_name=\"Sheet1\")\n",
    "\n",
    "df_LD.columns = df_LD.iloc[6]\n",
    "df_LD = df_LD.iloc[7:]\n",
    "df_LD = df_LD.reset_index(drop=True)\n",
    "\n",
    "#df_LD\n",
    "#df_anexoD\n",
    "# display(df_anexoD)\n"
   ]
  },
  {
   "cell_type": "markdown",
   "metadata": {},
   "source": [
    "### Prepara os dados"
   ]
  },
  {
   "cell_type": "code",
   "execution_count": 66,
   "metadata": {},
   "outputs": [
    {
     "name": "stdout",
     "output_type": "stream",
     "text": [
      "<class 'pandas.core.frame.DataFrame'>\n",
      "RangeIndex: 691 entries, 0 to 690\n",
      "Data columns (total 3 columns):\n",
      " #   Column       Non-Null Count  Dtype \n",
      "---  ------       --------------  ----- \n",
      " 0   Code         691 non-null    object\n",
      " 1   Description  691 non-null    object\n",
      " 2   Discipline   691 non-null    object\n",
      "dtypes: object(3)\n",
      "memory usage: 16.3+ KB\n"
     ]
    }
   ],
   "source": [
    "df_LD.rename(columns = {\"Discipline/Class of Service\":\"Class_of_Service\"}, inplace = True)\n",
    "df_LD.rename(columns = {\"DOCUMENT TITLE\":\"DOCUMENT_TITLE\"}, inplace = True)\n",
    "\n",
    "# Convertendo as colunas 'Class_of_Service' e 'Code' para string\n",
    "df_anexoD['Code'] = df_anexoD['Code'].astype(str)\n",
    "df_LD['Class_of_Service'] = df_LD['Class_of_Service'].astype(str)\n",
    "\n",
    "df_anexoD.info()"
   ]
  },
  {
   "cell_type": "markdown",
   "metadata": {},
   "source": [
    "### Itera o df_anexoD da N-1710 e inclui a descrição dos códigos na coluna Descricao_n1710 no dataframe df_LD"
   ]
  },
  {
   "cell_type": "code",
   "execution_count": 67,
   "metadata": {},
   "outputs": [
    {
     "name": "stderr",
     "output_type": "stream",
     "text": [
      "C:\\Users\\elxy\\AppData\\Local\\Temp\\ipykernel_19724\\2243168430.py:7: FutureWarning: Setting an item of incompatible dtype is deprecated and will raise in a future error of pandas. Value 'GERAL' has dtype incompatible with float64, please explicitly cast to a compatible dtype first.\n",
      "  df_LD.loc[(df_LD['Class_of_Service'] == codigo), \"Descricao_n1710\"] = descricao\n"
     ]
    }
   ],
   "source": [
    "for row in df_anexoD.itertuples():\n",
    "    codigo = row.Code\n",
    "    descricao = row.Description\n",
    "    \n",
    "    # usando a função .loc para atualizar os valores\n",
    "    # df_escopo.loc[(df_escopo['PKG_DESCRIPTION'] == pkg_description) & (df_escopo['item_tag'] == item_tag) , \"PO_Number\"] = pkg_engineer\n",
    "    df_LD.loc[(df_LD['Class_of_Service'] == codigo), \"Descricao_n1710\"] = descricao\n",
    "\n",
    "# display(df_LD)"
   ]
  },
  {
   "cell_type": "markdown",
   "metadata": {},
   "source": [
    "### Salva DataFrame df_LD no arquivo excel"
   ]
  },
  {
   "cell_type": "code",
   "execution_count": 68,
   "metadata": {},
   "outputs": [
    {
     "name": "stdout",
     "output_type": "stream",
     "text": [
      "Arquivo C:\\Users\\elxy\\Documents\\Python\\P84\\LD_cesar.xlsx salvo em:  c:\\Users\\elxy\\Documents\\Python\\P84\n"
     ]
    }
   ],
   "source": [
    "ld_cesar = 'C:\\\\Users\\\\elxy\\\\Documents\\\\Python\\\\P84\\\\LD_cesar.xlsx'\n",
    "\n",
    "# Salvando arquivos P84 e P85:\n",
    "with pd.ExcelWriter(ld_cesar) as writer:\n",
    "    df_LD.to_excel(writer, sheet_name='LD', index=False)\n",
    "print(f'Arquivo {ld_cesar} salvo em: ', Path.cwd())"
   ]
  },
  {
   "cell_type": "markdown",
   "metadata": {},
   "source": [
    "### Realiza o agrupamento das informações"
   ]
  },
  {
   "cell_type": "code",
   "execution_count": 69,
   "metadata": {},
   "outputs": [
    {
     "name": "stdout",
     "output_type": "stream",
     "text": [
      "Valores Agrupados - DataFrame df_grouped_prefix:\n",
      "      PREFIX  counts\n",
      "0  B-1251001      75\n",
      "1  B-1251002     124\n",
      "2  B-1251003      74\n"
     ]
    },
    {
     "name": "stderr",
     "output_type": "stream",
     "text": [
      "C:\\Users\\elxy\\AppData\\Local\\Temp\\ipykernel_19724\\3106983181.py:19: SettingWithCopyWarning: \n",
      "A value is trying to be set on a copy of a slice from a DataFrame.\n",
      "Try using .loc[row_indexer,col_indexer] = value instead\n",
      "\n",
      "See the caveats in the documentation: https://pandas.pydata.org/pandas-docs/stable/user_guide/indexing.html#returning-a-view-versus-a-copy\n",
      "  df_filtered['PREFIX'] = df_filtered['DOCUMENT_TITLE'].str.extract(r'(B-1251\\d{3})')\n"
     ]
    }
   ],
   "source": [
    "# Vetor de textos específicos\n",
    "texts = ['B-1251001', 'B-1251002', 'B-1251003']\n",
    "\n",
    "# Criar o padrão de expressão regular a partir do vetor de textos\n",
    "pattern = '|'.join(texts)\n",
    "\n",
    "# Filtrar as linhas que contêm os textos específicos na coluna DOCUMENT_TITLE\n",
    "df_filtered = df_LD[df_LD['DOCUMENT_TITLE'].str.contains(pattern)]\n",
    "\n",
    "# Verificar se df_filtered não está vazio\n",
    "# print(\"DataFrame df_filtered:\")\n",
    "# print(df_filtered)\n",
    "\n",
    "# Verificar a estrutura dos dados\n",
    "# print(\"Conteúdo da coluna DOCUMENT_TITLE em df_filtered:\")\n",
    "# print(df_filtered['DOCUMENT_TITLE'])\n",
    "\n",
    "# Ajustar a expressão regular para capturar corretamente o prefixo\n",
    "df_filtered['PREFIX'] = df_filtered['DOCUMENT_TITLE'].str.extract(r'(B-1251\\d{3})')\n",
    "\n",
    "# Verificar a coluna PREFIX\n",
    "# print(\"Coluna PREFIX:\")\n",
    "# print(df_filtered['PREFIX'])\n",
    "\n",
    "# Verificar os valores únicos na coluna PREFIX\n",
    "# print(\"Valores únicos na coluna PREFIX:\")\n",
    "# print(df_filtered['PREFIX'].unique())\n",
    "\n",
    "# Agrupar pelo prefixo e contar as ocorrências\n",
    "df_grouped_prefix = df_filtered.groupby('PREFIX').size().reset_index(name='counts')\n",
    "\n",
    "print(\"Valores Agrupados - DataFrame df_grouped_prefix:\")\n",
    "print(df_grouped_prefix)\n",
    "\n",
    "\n"
   ]
  },
  {
   "cell_type": "markdown",
   "metadata": {},
   "source": [
    "### Salva DataFrame filtrado df_filtered num arquivo excel"
   ]
  },
  {
   "cell_type": "code",
   "execution_count": 70,
   "metadata": {},
   "outputs": [
    {
     "name": "stdout",
     "output_type": "stream",
     "text": [
      "Arquivo C:\\Users\\elxy\\Documents\\Python\\P84\\LD_filter_cesar.xlsx salvo em:  c:\\Users\\elxy\\Documents\\Python\\P84\n"
     ]
    }
   ],
   "source": [
    "ld_filter_cesar = 'C:\\\\Users\\\\elxy\\\\Documents\\\\Python\\\\P84\\\\LD_filter_cesar.xlsx'\n",
    "\n",
    "# Salvando LD filtrada:\n",
    "with pd.ExcelWriter(ld_filter_cesar) as writer:\n",
    "    df_filtered.to_excel(writer, sheet_name='LD', index=False)\n",
    "print(f'Arquivo {ld_filter_cesar} salvo em: ', Path.cwd())"
   ]
  }
 ],
 "metadata": {
  "kernelspec": {
   "display_name": "Python 3",
   "language": "python",
   "name": "python3"
  },
  "language_info": {
   "codemirror_mode": {
    "name": "ipython",
    "version": 3
   },
   "file_extension": ".py",
   "mimetype": "text/x-python",
   "name": "python",
   "nbconvert_exporter": "python",
   "pygments_lexer": "ipython3",
   "version": "3.11.1"
  }
 },
 "nbformat": 4,
 "nbformat_minor": 4
}
